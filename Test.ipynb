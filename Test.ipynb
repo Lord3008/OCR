{
  "cells": [
    {
      "cell_type": "code",
      "execution_count": null,
      "metadata": {
        "colab": {
          "base_uri": "https://localhost:8080/",
          "height": 0
        },
        "id": "wmTG2qJ4rIFc",
        "outputId": "10d8400b-a457-422c-ceee-a12bb14667ab"
      },
      "outputs": [],
      "source": [
        "from google.colab import drive\n",
        "import os\n",
        "drive.mount('/content/drive')"
      ]
    },
    {
      "cell_type": "code",
      "execution_count": null,
      "metadata": {
        "colab": {
          "base_uri": "https://localhost:8080/",
          "height": 0
        },
        "id": "TBmm3RZ5rXzg",
        "outputId": "5e3f6f9a-4ebf-4e3a-d5b9-2b95e3271ebc"
      },
      "outputs": [],
      "source": [
        "!sudo apt install tesseract-ocr\n",
        "!pip install pytesseract"
      ]
    },
    {
      "cell_type": "code",
      "execution_count": 41,
      "metadata": {
        "id": "kBQzgNOcrmeQ"
      },
      "outputs": [],
      "source": [
        "import cv2\n",
        "import pytesseract\n",
        "import numpy as np\n",
        "import os\n",
        "from tqdm import tqdm\n",
        "import matplotlib.pyplot as plt\n",
        "import re"
      ]
    },
    {
      "cell_type": "code",
      "execution_count": null,
      "metadata": {
        "colab": {
          "base_uri": "https://localhost:8080/",
          "height": 0
        },
        "id": "ZsF4pfbwuV80",
        "outputId": "26b56655-0151-47ef-f5c6-b5ccfe323e6e"
      },
      "outputs": [],
      "source": [
        "!pip install transformers torch torchvision Pillow datasets"
      ]
    },
    {
      "cell_type": "code",
      "execution_count": 43,
      "metadata": {
        "id": "PsqdbZdauY6L"
      },
      "outputs": [],
      "source": [
        "from PIL import Image\n",
        "from torch.nn.utils.rnn import pad_sequence\n",
        "import torch"
      ]
    },
    {
      "cell_type": "code",
      "execution_count": 44,
      "metadata": {
        "id": "jHRD_f73uoou"
      },
      "outputs": [],
      "source": [
        "image_path = \"/content/drive/MyDrive/human_ai_folder/testing_folder/Mendo-page_5.jpg\"\n",
        "image = cv2.imread(image_path)\n",
        "gray = cv2.cvtColor(image, cv2.COLOR_BGR2GRAY)"
      ]
    },
    {
      "cell_type": "code",
      "execution_count": 45,
      "metadata": {
        "id": "GCbbmuAoutgt"
      },
      "outputs": [],
      "source": [
        "data = pytesseract.image_to_data(gray, output_type=pytesseract.Output.DICT)"
      ]
    },
    {
      "cell_type": "code",
      "execution_count": null,
      "metadata": {
        "colab": {
          "base_uri": "https://localhost:8080/",
          "height": 807
        },
        "id": "B-DMz4x_u7Lm",
        "outputId": "22246b62-6227-46d5-bd9d-a6f181d7f875"
      },
      "outputs": [],
      "source": [
        "for i in range(len(data['text'])):\n",
        "    if int(data['conf'][i]) > 0:\n",
        "        x, y, w, h = data['left'][i], data['top'][i], data['width'][i], data['height'][i]\n",
        "        cv2.rectangle(image, (x, y), (x + w, y + h), (0, 255, 0), 2)\n",
        "\n",
        "# Show the image with bounding boxes\n",
        "plt.figure(figsize=(10, 10))\n",
        "plt.imshow(cv2.cvtColor(image, cv2.COLOR_BGR2RGB))\n",
        "plt.axis(\"off\")\n",
        "plt.show()"
      ]
    },
    {
      "cell_type": "code",
      "execution_count": null,
      "metadata": {
        "colab": {
          "base_uri": "https://localhost:8080/",
          "height": 0
        },
        "id": "rWO5MIYcEs8t",
        "outputId": "3fabe961-625e-4892-b600-acdf12bc8679"
      },
      "outputs": [],
      "source": [
        "!pip install difflib"
      ]
    },
    {
      "cell_type": "code",
      "execution_count": null,
      "metadata": {
        "colab": {
          "base_uri": "https://localhost:8080/",
          "height": 0
        },
        "id": "6zUFQIGG0SFI",
        "outputId": "02868fd8-dec6-416f-fd05-612335526543"
      },
      "outputs": [],
      "source": [
        "from transformers import TrOCRProcessor, VisionEncoderDecoderModel\n",
        "\n",
        "# Load the processor and model\n",
        "processor = TrOCRProcessor.from_pretrained(\"microsoft/trocr-base-printed\")\n",
        "model = VisionEncoderDecoderModel.from_pretrained(\"microsoft/trocr-base-printed\")\n",
        "\n",
        "# Ensure model is on GPU if available\n",
        "device = \"cuda\" if torch.cuda.is_available() else \"cpu\"\n",
        "model.to(device)\n",
        "print(device)\n",
        "# Check model structure\n",
        "print(model)"
      ]
    },
    {
      "cell_type": "code",
      "execution_count": null,
      "metadata": {
        "colab": {
          "base_uri": "https://localhost:8080/",
          "height": 0
        },
        "id": "Bf0hyx9xu_R1",
        "outputId": "b058d715-a476-4e45-ab4a-c0dfd5bda949"
      },
      "outputs": [],
      "source": [
        "from torch.utils.data import Dataset\n",
        "from transformers import VisionEncoderDecoderModel, TrOCRProcessor\n",
        "from PIL import Image\n",
        "import torch\n",
        "\n",
        "checkpoint_path = \"D:\\OCR_final\\OCR\\ocr_model\\checkpoint\"\n",
        "\n",
        "model = VisionEncoderDecoderModel.from_pretrained(checkpoint_path)\n",
        "processor = TrOCRProcessor.from_pretrained(\"microsoft/trocr-base-printed\")\n",
        "model.eval()"
      ]
    },
    {
      "cell_type": "code",
      "execution_count": null,
      "metadata": {
        "colab": {
          "base_uri": "https://localhost:8080/",
          "height": 0
        },
        "id": "AmkCXdpuvKOu",
        "outputId": "7c1d5771-0e80-4efa-c559-9444d2d310b7"
      },
      "outputs": [
        {
          "name": "stderr",
          "output_type": "stream",
          "text": [
            "The channel dimension is ambiguous. Got image shape (3, 5, 3). Assuming channels are the first dimension.\n"
          ]
        },
        {
          "name": "stdout",
          "output_type": "stream",
          "text": [
            "Extracted Text:\n",
            "VIDEATUR mor CHARAGE. NO AY ON TODO EL LIBRO COTA CONTRA NUEITTA SANTA FE CATHOLICA, DI QUE DEEDIGADE 10 MORAL CR LAS COFTURBERS : CONQUE DEBE DARFELE IA LICENCLA,QUE DIDE. EN EFFE COLLEGIO DEL ARZOLIPO DE TOLEDO MI SERIOR,EL MAYOR DE SALAMANCA, DULIO 3.DE 1656 DOCTOR DON FRANCIFCO DE PWGA,Y FEYOO. LICENCIA DEL ORDINARIO. ON LUAN PEREZ DELGADO POR LA GRACIA DE DIOS,Y DE LA FANTA SEDE A POFTOLICA OBIFPO DE SALAMANCA,DEL CONTEJO DE fu MAGETTAD,&C.POR LA PRECENTE, POR IO QUE 1 NOS TOCA,DAMOS LICENCIA, PARA QUE TE PUEDA IMPRIMIR EL LIBRO INTICULARO PRINCIPE PERFETTO,Y MINIFROS AJAftADOS, DOCMMENOS POLITICOS,Y MORALES, COPUEFFO POR EL P.ANDRES MENDO DE LA COMPANIA DE LEFUS, RECTOR DEL COLLEGIO DC IRIZLEGES DE 1 VINIUERRIAD DEFTA DICHA CLUDADJATEN- TO, DE 1A CENTURA DEL DOCTOR DON FRANCIFCO DE PUGA, Y FEIJO,COLEGIAL DEL MAYOR DEL ARZOBIFPO DE TOLEDO DE- TA DICHA VINIUERFIDAD, Y CATBEDRACICO DE PRIMA DE CA- HONES DELIA,CONFRA, NO TIENE COFA ALGUNA CONTA MUELRA FANTA FE CATHOLICA, Y BUENAS COFTUMBERS.DADA CN SALA- MANCA X- FEIS DIAS DEL MES DE LULIO DE 1656. ANOS. LWAX OBIFPO DE SALAMANCA. POR MANDAJO DEL OPIFPO MI GENOR. BATTOLOME FERMANOER MONTOJO. LICENCIA DEL R.P. MIGWEL DE AFBIZ# PROWINGIAL DE LA COM- 7 PASIA DE LEFHS,EN LA PROMMGIA DE CAPILLA. 7 M GUELDE ARDIZU PROUNDIAL CLE IA COMPANIA DE REFUS CN LA PRODUCTIA DE CAFFILLA, POR RECECIAL COMIFION,QUE PARA ELLO TENGO DE NUEFFRO PADRE GOVVINO NIKEL PREPO- ITO GENERAL, : POOR LAS REFENTES QTY LICENCIA AL P.ANDRES MENPO RELIGIOTO DE DICHA COMPANIA, Y CALIFICADOR DE 1^ INQUIFICION UPTEMA,PARA QUE PUEDA IMPRIMIT VN LIBTO, QUE HA COMPLEFOOD : INTITULADO PRINCEPE PERFEETO, 2 MINIFROS AJW/TADOS, DOCMMEMTOS POLITICES, 2 MORALES : POR AURLE ViFFO, THANK YOU APROBADO PERFONAS GRAUES, Y doCTAS DE MUERRA RELIGION, 2 QUICN LE COMETIMOS. EN EP TE DELOGUAL, Y PARA QUE DELLO CON- TC, DAMOS EFTAS NUETRAS LETRAS RMADAS DE NUEFFRO NOM- BRE, > RELLADAS CON CL TELLO DE NUEFFRO OPICIO. EN BURGOS A 27. ENOULEMBRE DC 1636. MIGUEL DE ARDIZW. APRO \n"
          ]
        }
      ],
      "source": [
        "def process_text_regions(image, data):\n",
        "    extracted_text = \"\"\n",
        "\n",
        "    for i in range(len(data['text'])):\n",
        "        text = data['text'][i].strip()\n",
        "        if text:\n",
        "            x, y, w, h = data['left'][i], data['top'][i], data['width'][i], data['height'][i]\n",
        "            cropped_region = image[y:y+h, x:x+w]\n",
        "            pil_img = Image.fromarray(cropped_region).convert(\"RGB\")\n",
        "\n",
        "            pixel_values = processor(pil_img, return_tensors=\"pt\").pixel_values\n",
        "            generated_ids = model.generate(pixel_values)\n",
        "            decoded_text = processor.batch_decode(generated_ids, skip_special_tokens=True)[0]\n",
        "\n",
        "            extracted_text += decoded_text + \" \"\n",
        "\n",
        "    return extracted_text\n",
        "\n",
        "final_text = process_text_regions(gray, data)\n",
        "print(\"Extracted Text:\")\n",
        "print(final_text)"
      ]
    },
    {
      "cell_type": "code",
      "execution_count": 51,
      "metadata": {
        "id": "STDQYNyQ0oUn"
      },
      "outputs": [],
      "source": [
        "  def normalize_text(text):\n",
        "        \"\"\"Apply historical OCR normalization rules\"\"\"\n",
        "        text = text.replace(\"ſ\", \"s\")  # Long 's' → 's'\n",
        "        text = text.replace(\"ç\", \"z\")  # ç → z\n",
        "        text = text.replace(\"q̄\", \"que\")  # q-macron → que\n",
        "        text = text.replace(\"u\", \"v\") if \"v\" in text else text.replace(\"v\", \"u\")  # u ↔ v\n",
        "        text = text.translate(str.maketrans(\"áéíóú\", \"aeiou\"))  # Remove accents (except ñ)\n",
        "        return text"
      ]
    },
    {
      "cell_type": "code",
      "execution_count": 52,
      "metadata": {
        "id": "oannqHvrP64t"
      },
      "outputs": [],
      "source": [
        "transcript_path = \"/content/drive/MyDrive/human_ai_folder/testing_folder/page5.txt\"\n",
        "with open(transcript_path, \"r\", encoding=\"utf-8\") as f:\n",
        "    ground_truth_text = f.read().strip()\n",
        "\n",
        "\n",
        "ground_truth_text=normalize_text(ground_truth_text)"
      ]
    },
    {
      "cell_type": "code",
      "execution_count": 53,
      "metadata": {
        "colab": {
          "base_uri": "https://localhost:8080/",
          "height": 0
        },
        "id": "Pn8GnyzAP-UD",
        "outputId": "9364a9b4-f7c4-4864-a2ef-b9be1cb70365"
      },
      "outputs": [
        {
          "name": "stdout",
          "output_type": "stream",
          "text": [
            "\n",
            "Ground Truth Transcript:\n",
            " videatvr no cvrasse. No hay en todo el libro cosa contra\n",
            "nvestra Santa Fe Catholica, ni qve desdiga de lo moral\n",
            "en las costvmbres; conqve debe darsele la licencia, qve\n",
            "pide. En este Collegio del Arzobispo de Toledo mi\n",
            "Señor, el Mayor de Salamanca, Ivlio 3. de 1656.\n",
            "Doctor Don Francisco de Pvga, y Feijoo.\n",
            "LICENCIA DEL ORDINARIO.\n",
            "Don Ivan Perez Delgado por la gracia de Dios, y de\n",
            "la santa Sede Apostolica Obispo de Salamanca, del\n",
            "Consejo de sv Magestad, &c. Por la presente, por lo qve\n",
            "a Nos toca, damos licencia, para qve se pveda imprimir\n",
            "el Libro intitvlado Principe Perfecto, y Ministros adjvstados,\n",
            "Docvmentos Politicos, y morales, conpvesto por el P. Andres\n",
            "Mendo de la Compañia de Iesvs, Rector del Collegio\n",
            "de Irlandeses de la Vniversidad desta dicha Civdad; aten-\n",
            "to, de la censvra del Doctor Don Francisco de Pvga, y\n",
            "Feijo, Colegial del Mayor del Arzobispo de Toledo de-\n",
            "sta dicha Vniversidad, y Cathedratico de Prima de Ca-\n",
            "nones della, consta, no tiene cosa algvna contra nvestra\n",
            "santa Fe Catholica, y bvenas costvmbres. Dada en Sala-\n",
            "manca a seis dias del mes de Ivlio de 1656. años.\n",
            "Ivan Obispo de Salamanca. Por mandato del Obispo de mi Señor.\n",
            "Bartolome Fernandez Montojo.\n",
            "Licencia del R.P. Migvel de Arbizv Provincial de la Com-\n",
            "pañia de Iesvs, en la Provincia de Castilla.\n",
            "Migvel de Arbizv Provincial de la Compañia de Iesvs\n",
            "en la Provincia de Castilla, por especial comision, qve\n",
            "para ello tengo de nvestro Padre Gosvvino NiKel Prepo-\n",
            "sito Gerneral, por las presentes doy licencia al P. Andres\n",
            "Mendo Religioso de dicha Compañia, y Calificador de la\n",
            "Inqvisicion Svprema, para qve pveda imprimir vn Libro,\n",
            "qve ha compvesto, intitvlado Principe Perfecto, y Ministros\n",
            "ajvstados, Docvmentos Politicos, y Morales, por averle visto, y\n",
            "aprobado personas graves, y doctas de nvestra Religion, a\n",
            "qvien le cometimos. En fe de lo qval, y para qve dello con-\n",
            "ste, damos estas nvestras letras firmadas de nvestro nom-\n",
            "bre, y selladas con el sello de nvestro oficio. En Bvrgos a\n",
            "27. de Noviembre de 1656.      Migvel de Arbizv.\n"
          ]
        }
      ],
      "source": [
        "print(\"\\nGround Truth Transcript:\\n\", ground_truth_text)"
      ]
    },
    {
      "cell_type": "code",
      "execution_count": null,
      "metadata": {
        "colab": {
          "base_uri": "https://localhost:8080/",
          "height": 0
        },
        "id": "EBPJFM71QBNf",
        "outputId": "3f35f872-2f03-4fa1-8a4d-22858be8be93"
      },
      "outputs": [],
      "source": [
        "!pip install spacy\n",
        "!python -m spacy download es_core_news_sm"
      ]
    },
    {
      "cell_type": "code",
      "execution_count": 55,
      "metadata": {
        "colab": {
          "base_uri": "https://localhost:8080/",
          "height": 0
        },
        "id": "li2jmGb6QFFl",
        "outputId": "54f9c6be-1147-4640-87da-1d23055542e7"
      },
      "outputs": [
        {
          "name": "stdout",
          "output_type": "stream",
          "text": [
            "Videatur mor charage. No ay on todo el libro cota contra nueitta santa fe catholica, di que deedigade 10 moral cr las cofturbers : conque debe darfele ia licencla,que dide. En effe collegio del arzolipo de toledo mi serior,el mayor de salamanca, dulio 3.de 1656 doctor don francifco de pwga,y feyoo. Licencia del ordinario. On luan perez delgado por la gracia de dios,y de la fanta sede a poftolica obifpo de salamanca,del contejo de fu magettad,&c.por la precente, por io que 1 nos toca,damos licencia, para que te pueda imprimir el libro inticularo principe perfetto,y minifros ajaftados, docmmenos politicos,y morales, copueffo por el p.andres mendo de la compania de lefus, rector del collegio dc irizleges de 1 viniuerriad defta dicha cludadjaten- to, de 1a centura del doctor don francifco de puga, y feijo,colegial del mayor del arzobifpo de toledo de- ta dicha viniuerfidad, y catbedracico de prima de ca- hones delia,confra, no tiene cofa alguna conta muelra fanta fe catholica, y buenas coftumbers.dada cn sala- manca x- feis dias del mes de lulio de 1656. Anos. Lwax obifpo de salamanca. Por mandajo del opifpo mi genor. Battolome fermanoer montojo. Licencia del r.p. Migwel de afbiz# prowingial de la com- 7 pasia de lefhs,en la prommgia de capilla. 7 m guelde ardizu proundial cle ia compania de refus cn la productia de caffilla, por rececial comifion,que para ello tengo de nueffro padre govvino nikel prepo- ito general, : poor las refentes qty licencia al p.andres menpo religioto de dicha compania, y calificador de 1^ inquificion uptema,para que pueda imprimit vn libto, que ha complefood : intitulado princepe perfeeto, 2 minifros ajw/tados, docmmemtos politices, 2 morales : por aurle viffo, thank you aprobado perfonas graues, y doctas de muerra religion, 2 quicn le cometimos. En ep te delogual, y para que dello con- tc, damos eftas nuetras letras rmadas de nueffro nom- bre, > relladas con cl tello de nueffro opicio. En burgos a 27. Enoulembre dc 1636. Miguel de ardizw. Apro\n"
          ]
        }
      ],
      "source": [
        "import re\n",
        "import spacy\n",
        "\n",
        "# Load Spanish NLP model for sentence and proper noun detection\n",
        "nlp = spacy.load(\"es_core_news_sm\")\n",
        "\n",
        "def correct_case(text):\n",
        "    # Convert everything to lowercase\n",
        "    text = text.lower()\n",
        "\n",
        "    # Process text using spaCy for sentence detection\n",
        "    doc = nlp(text)\n",
        "\n",
        "    # Capitalize the first letter of each sentence\n",
        "    corrected_text = \" \".join(\n",
        "        [sent.text.capitalize() for sent in doc.sents]\n",
        "    )\n",
        "\n",
        "    return corrected_text\n",
        "\n",
        "# Example usage\n",
        "extracted_text = final_text  # Your OCR output\n",
        "clean_text = correct_case(extracted_text)\n",
        "print(clean_text)"
      ]
    },
    {
      "cell_type": "code",
      "execution_count": null,
      "metadata": {
        "colab": {
          "base_uri": "https://localhost:8080/",
          "height": 0
        },
        "id": "F5BIRIveQNkr",
        "outputId": "b61740f0-8376-4117-9af5-028944649bf7"
      },
      "outputs": [],
      "source": [
        "!pip install Levenshtein jiwer"
      ]
    },
    {
      "cell_type": "markdown",
      "metadata": {
        "id": "t9QmLDAbeXV7"
      },
      "source": [
        "## the error rates are shown here"
      ]
    },
    {
      "cell_type": "code",
      "execution_count": null,
      "metadata": {
        "colab": {
          "base_uri": "https://localhost:8080/",
          "height": 0
        },
        "id": "D_0GnDquFK7u",
        "outputId": "7ea2da4e-ea49-4924-c494-789a9ccf3fa5"
      },
      "outputs": [
        {
          "name": "stdout",
          "output_type": "stream",
          "text": [
            "Character-Level F1-score: 0.8461538461538461\n"
          ]
        }
      ],
      "source": [
        "from sklearn.metrics import precision_score, recall_score, f1_score\n",
        "from difflib import SequenceMatcher\n",
        "\n",
        "def character_f1(ground_truth, ocr_text):\n",
        "    ground_truth = ground_truth.lower().replace(\" \", \"\")\n",
        "    ocr_text = ocr_text.lower().replace(\" \", \"\")\n",
        "\n",
        "    char_set = set(ground_truth) | set(ocr_text)\n",
        "    gt_vector = [1 if c in ground_truth else 0 for c in char_set]\n",
        "    ocr_vector = [1 if c in ocr_text else 0 for c in char_set]\n",
        "\n",
        "    f1 = f1_score(gt_vector, ocr_vector, average='binary')\n",
        "    return f1\n",
        "\n",
        "ground_truth_text = ground_truth_text\n",
        "ocr_text = clean_text\n",
        "\n",
        "f1_char = character_f1(ground_truth_text, ocr_text)\n",
        "print(\"Character-Level F1-score:\", f1_char)\n"
      ]
    },
    {
      "cell_type": "code",
      "execution_count": null,
      "metadata": {
        "colab": {
          "base_uri": "https://localhost:8080/",
          "height": 0
        },
        "id": "NvHoj8pVUVvC",
        "outputId": "b413d0d5-2a2b-47d0-f30f-4c50acba2987"
      },
      "outputs": [
        {
          "name": "stdout",
          "output_type": "stream",
          "text": [
            "Word-Level F1-score: 0.45037037037037037\n"
          ]
        }
      ],
      "source": [
        "from sklearn.metrics import precision_score, recall_score, f1_score\n",
        "from collections import Counter\n",
        "\n",
        "def word_f1(ground_truth, ocr_text):\n",
        "    gt_words = ground_truth.lower().split()\n",
        "    ocr_words = ocr_text.lower().split()\n",
        "\n",
        "    gt_counter = Counter(gt_words)\n",
        "    ocr_counter = Counter(ocr_words)\n",
        "\n",
        "    common_words = sum((gt_counter & ocr_counter).values())\n",
        "    precision = common_words / sum(ocr_counter.values()) if sum(ocr_counter.values()) > 0 else 0\n",
        "    recall = common_words / sum(gt_counter.values()) if sum(gt_counter.values()) > 0 else 0\n",
        "\n",
        "    if precision + recall == 0:\n",
        "        return 0 \n",
        "    f1 = 2 * (precision * recall) / (precision + recall)\n",
        "    return f1\n",
        "\n",
        "f1_word = word_f1(ground_truth_text, ocr_text)\n",
        "print(\"Word-Level F1-score:\", f1_word)"
      ]
    },
    {
      "cell_type": "code",
      "execution_count": 60,
      "metadata": {
        "id": "9dIekBgSQcRb"
      },
      "outputs": [],
      "source": [
        "image_path = \"/content/drive/MyDrive/human_ai_folder/processed_images/Buendia-page_1.jpg\"\n",
        "image = cv2.imread(image_path)\n",
        "gray = cv2.cvtColor(image, cv2.COLOR_BGR2GRAY)"
      ]
    },
    {
      "cell_type": "code",
      "execution_count": 61,
      "metadata": {
        "id": "ilG_DIvObhWQ"
      },
      "outputs": [],
      "source": [
        "data = pytesseract.image_to_data(gray, output_type=pytesseract.Output.DICT)"
      ]
    },
    {
      "cell_type": "code",
      "execution_count": 62,
      "metadata": {
        "colab": {
          "base_uri": "https://localhost:8080/",
          "height": 0
        },
        "id": "nBVPVL59bnpj",
        "outputId": "989e8d38-bdf1-4189-b84e-6824585d9084"
      },
      "outputs": [
        {
          "name": "stdout",
          "output_type": "stream",
          "text": [
            "Extracted Text:\n",
            "ICS PER VOS : DULCISIMO NINO : 3 1 JESUS : QUE NO TOLO OS : GSTRA 3 DIGNAFEIS DE LLAMARDS DOCTOR DE LOS NINOS, 1 INO TAMBIEN DE AISIF- CIR COMO NINO ENTRE LOS DOCTORES, TE CONFAGRA HUMILDE ETTA PEQUENA INSTRUCTION DE LOS NINOS. ES AISI, QUE ELLA TAMBIEN TE DIRICE 2 LA JU- VENTUD : PERO AEFTA, COMO RECUER- DO DE 10 QUE APRENDIO, ALOS NI- NOS > COMO PRECIFA EXPLICACION DE 10 QUE DEBEN EFTUDIAR. POR EFTE TO- IO TITULO.ES MUY VUEFRA > Y POR TER PARA NINOS , QUE CONFAIS 2 LA EDUCACION DE VUEFRA COMPANIA, 10 CS MUCHO MAS. EN VOS, ( DIVI- NO EXEMPLAR DE TODAS LAS VIRTU- DES ) ) TIENEN ABREVIADO CL MAS TE- \n"
          ]
        }
      ],
      "source": [
        "final_text = process_text_regions(gray, data)\n",
        "print(\"Extracted Text:\")\n",
        "print(final_text)"
      ]
    },
    {
      "cell_type": "code",
      "execution_count": 63,
      "metadata": {
        "colab": {
          "base_uri": "https://localhost:8080/",
          "height": 0
        },
        "id": "4DrpRzxdbvIt",
        "outputId": "fa0fd12f-7b0c-492d-904f-00528668e0c2"
      },
      "outputs": [
        {
          "name": "stdout",
          "output_type": "stream",
          "text": [
            "Ics per vos : dulcisimo nino : 3 1 jesus : que no tolo os : gstra 3 dignafeis de llamards doctor de los ninos, 1 ino tambien de aisif- cir como nino entre los doctores, te confagra humilde etta pequena instruction de los ninos. Es aisi, que ella tambien te dirice 2 la ju- ventud : pero aefta, como recuer- do de 10 que aprendio, alos ni- nos > como precifa explicacion de 10 que deben eftudiar. Por efte to- io titulo.es muy vuefra > y por ter para ninos , que confais 2 la educacion de vuefra compania, 10 cs mucho mas. En vos, ( divi- no exemplar de todas las virtu- des ) ) tienen abreviado cl mas te-\n"
          ]
        }
      ],
      "source": [
        "extracted_text = final_text  # Your OCR output\n",
        "clean_text = correct_case(extracted_text)\n",
        "print(clean_text)"
      ]
    },
    {
      "cell_type": "code",
      "execution_count": null,
      "metadata": {
        "colab": {
          "base_uri": "https://localhost:8080/",
          "height": 0
        },
        "id": "f7lGDLKzb_0n",
        "outputId": "e9c9540c-e1fe-41ac-b99c-ae3aa204f156"
      },
      "outputs": [],
      "source": [
        "transcript_path = \"/content/drive/MyDrive/human_ai_folder/testing_folder/page5.txt\"\n",
        "with open(transcript_path, \"r\", encoding=\"utf-8\") as f:\n",
        "    ground_truth_text = f.read().strip()\n",
        "\n",
        "\n",
        "ground_truth_text=normalize_text(ground_truth_text)\n",
        "print(ground_truth_text)"
      ]
    },
    {
      "cell_type": "code",
      "execution_count": 65,
      "metadata": {
        "colab": {
          "base_uri": "https://localhost:8080/",
          "height": 0
        },
        "id": "u17s5vSUcJQd",
        "outputId": "f9d6d43d-f189-4cf5-84a9-f1f5d1731ca3"
      },
      "outputs": [
        {
          "name": "stdout",
          "output_type": "stream",
          "text": [
            "\n",
            "CER (Character Error Rate): 0.2427\n",
            "WER (Word Error Rate): 0.7857\n"
          ]
        }
      ],
      "source": [
        "print(f\"\\nCER (Character Error Rate): {cer:.4f}\")\n",
        "print(f\"WER (Word Error Rate): {wer_value:.4f}\")"
      ]
    },
    {
      "cell_type": "code",
      "execution_count": 66,
      "metadata": {
        "colab": {
          "base_uri": "https://localhost:8080/",
          "height": 0
        },
        "id": "JrJuJTZneM-0",
        "outputId": "22c9697e-9ae9-4b9c-d10c-d28729b236c2"
      },
      "outputs": [
        {
          "name": "stdout",
          "output_type": "stream",
          "text": [
            "Character-Level F1-score: 0.8461538461538461\n"
          ]
        }
      ],
      "source": [
        "f1_char = character_f1(ground_truth_text, ocr_text)\n",
        "print(\"Character-Level F1-score:\", f1_char)"
      ]
    },
    {
      "cell_type": "code",
      "execution_count": null,
      "metadata": {
        "colab": {
          "base_uri": "https://localhost:8080/",
          "height": 0
        },
        "id": "B_QBsWquT9Sm",
        "outputId": "a0016a9f-bf3f-4e97-c86d-ba956caeb8c2"
      },
      "outputs": [
        {
          "name": "stdout",
          "output_type": "stream",
          "text": [
            "Word-Level F1-score: 0.45037037037037037\n"
          ]
        }
      ],
      "source": [
        "f1_word = word_f1(ground_truth_text, ocr_text)\n",
        "print(\"Word-Level F1-score:\", f1_word)"
      ]
    },
    {
      "cell_type": "code",
      "execution_count": 68,
      "metadata": {
        "id": "KGHwIEcTUO-v"
      },
      "outputs": [],
      "source": [
        "image_path = \"/content/drive/MyDrive/human_ai_folder/testing_folder/Mendo-page_4.jpg\"\n",
        "image = cv2.imread(image_path)\n",
        "gray = cv2.cvtColor(image, cv2.COLOR_BGR2GRAY)"
      ]
    },
    {
      "cell_type": "code",
      "execution_count": 69,
      "metadata": {
        "id": "8u0PTHFzV0ns"
      },
      "outputs": [],
      "source": [
        "data = pytesseract.image_to_data(gray, output_type=pytesseract.Output.DICT)"
      ]
    },
    {
      "cell_type": "code",
      "execution_count": 70,
      "metadata": {
        "colab": {
          "base_uri": "https://localhost:8080/",
          "height": 0
        },
        "id": "5DcJbIonV4qD",
        "outputId": "1bcd4f22-509d-443d-f6cb-f5be4b5fc997"
      },
      "outputs": [
        {
          "name": "stdout",
          "output_type": "stream",
          "text": [
            "Extracted Text:\n",
            "RIEDAD DEL AFUMPTO,VIAUDOLE GRAUE,Y ONDEROFO,FIN UC IE ENCUMBRE LA AFETACION : QUE CS ALAJA MILY ETHIMABLE DC LA PRUDENCIA, QUE LA PLUMA POR 0 MAS REMONTADA GO- UICTHE CUS BUELOS AL PEFO DE LAS MATERIAS. UANTOS CO- NOCCEN AL AUTOR,LE BAN OYPO FACEQUENTEMERE EN 109 PUL- DITOS, Y LE BAN VENERADO CON EL PRIMER CREDITO CN CFTE EXERCICIO,CON GUE TABLEN 1 LINEA,A QUE ILEGA FU ELOGUEN- CIA,NUMCA INFERIOR ALA DE TULIO,Y DEMOTHENES.LA VILI- LIDAD DEL LIBRO TE CONOCE DEL KN,QUE POR EL TE PRETENCE. SU ENTERNZA CS LA IDEA DE VIN PRINCIPE PERFETO, Y GEN- OD EFFE O ALMA > 0- CABEZA DEL CUERPO DE LA REPUBLICAS BIEN TE DEJA ENTENDER,QUAN BENIGNAS INFUECIAS CAUFARA FU'VIRUD CN LAS COFTUMBERS DE BUS VARALLOS 1 Y QUANTQ MEJOR OBRARAN EFTOSADUERTIDOS DE FU EXEMPLO.COM QUE. BALLARAN EN ERTA OBRA LOS PRINCIPES, QUE APRENDER, Y 2 LOS. VAFALLOS,QUEIMITARY TODOS MADTA ENTERNZA CHRIFILA - NA,Y POLITICA CONDUCE,PARA 656 SOUERNAR, Y OBEDECER. ARDUA EMPREFA ES,AMIMAR LOS OJOS A- ESFERA TAN SUPERIOR, COMO LA DE VD MONARCA, CD QUE FUELC EL TEL DE LA GRAN- DEZA DEJAR DEFWAYADA IA MAS PERTPICAZ VITA : PERO CO- INO LE IDEA PERFECTO EL AUTOR, FON MAS FERENAS, QUE RIGU- ROFAS CUS LUCES. EXIFIMARE QUIDEM DE PRINCIPE , NETMISSION CASHIER 14 FAS ED : NAM G IN VEFTIBULO TWO INGHITCHETEM REPELLIT OBJECTA WENERATIO ; 8 JE QTY MECHITERN PROPIAS ADEGERUNT > QUOD. OCULIS IN SOLEM JE CONTENDENTIBUS CUENIT > PREPRIZEA ACTE > VIDENAS FACELLATE CATULTWT. VERUMS JE PERFEETUS IT INTMENTCM *** INIGMAS FULGOR REFUNDIT 1 JED JERENUSA LUMERA INVITAL. NO. REFMAYO EFFE PELIGRO CL ANIMODEL AUTOR, PARA DEJAR PG. PROLEQUIR ERTA OBRA, CN QUE YO BALLO CD GRANDECIDA 12. RELIGION : EMERADA LA POLITICASIA CORTEFANIA ILUFFADA 1 LAS COFTUMBERS CORREGIDAS > LA ERUDICION AFI SAGRADA, CO- NO HILTORICA, Y POETICA, PRIMOROLA ; Y CAN FELECTAMEN- TC TODO > QUE PUEDO BEZIR DE FU LITERATURA, LO QUE DPT .0 GRANDE BAILIO DIJO NAZIANZENO : 9400 LASCRIPLIMA JEGMAS. MOM CALLUIT ? IMO QUOD TION CA EXCELLENTIA, TAMQUARE IPF USS. AMIMMM ADICERIT : SIC GNIDEM OMPLES COMPREBENdit,UT SULA NWL- LUS UMAM. : SIC AD. JUMMMMM EMGLAS 7 WT ALIAS MILOS OWNLING. \n"
          ]
        }
      ],
      "source": [
        "final_text = process_text_regions(gray, data)\n",
        "print(\"Extracted Text:\")\n",
        "print(final_text)"
      ]
    },
    {
      "cell_type": "code",
      "execution_count": 71,
      "metadata": {
        "colab": {
          "base_uri": "https://localhost:8080/",
          "height": 0
        },
        "id": "KwsABxeVV9hz",
        "outputId": "1a4ac149-c448-4000-ea35-271d8f8f0455"
      },
      "outputs": [
        {
          "name": "stdout",
          "output_type": "stream",
          "text": [
            "Riedad del afumpto,viaudole graue,y onderofo,fin uc ie encumbre la afetacion : que cs alaja mily ethimable dc la prudencia, que la pluma por 0 mas remontada go- uicthe cus buelos al pefo de las materias. Uantos co- noccen al autor,le ban oypo facequentemere en 109 pul- ditos, y le ban venerado con el primer credito cn cfte exercicio,con gue tablen 1 linea,a que ilega fu eloguen- cia,numca inferior ala de tulio,y demothenes.la vili- lidad del libro te conoce del kn,que por el te pretence. Su enternza cs la idea de vin principe perfeto, y gen- od effe o alma > 0- cabeza del cuerpo de la republicas bien te deja entender,quan benignas infuecias caufara fu'virud cn las coftumbers de bus varallos 1 y quantq mejor obraran eftosaduertidos de fu exemplo.com que. Ballaran en erta obra los principes, que aprender, y 2 los. Vafallos,queimitary todos madta enternza chrifila - na,y politica conduce,para 656 souernar, y obedecer. Ardua emprefa es,amimar los ojos a- esfera tan superior, como la de vd monarca, cd que fuelc el tel de la gran- deza dejar defwayada ia mas pertpicaz vita : pero co- ino le idea perfecto el autor, fon mas ferenas, que rigu- rofas cus luces. Exifimare quidem de principe , netmission cashier 14 fas ed : nam g in veftibulo two inghitchetem repellit objecta weneratio ; 8 je qty mechitern propias adegerunt > quod. Oculis in solem je contendentibus cuenit > preprizea acte > videnas facellate catultwt. Verums je perfeetus it intmentcm *** inigmas fulgor refundit 1 jed jerenusa lumera invital. No. Refmayo effe peligro cl animodel autor, para dejar pg. Prolequir erta obra, cn que yo ballo cd grandecida 12. Religion : emerada la politicasia cortefania iluffada 1 las coftumbers corregidas > la erudicion afi sagrada, co- no hiltorica, y poetica, primorola ; y can felectamen- tc todo > que puedo bezir de fu literatura, lo que dpt .0 grande bailio dijo nazianzeno : 9400 lascriplima jegmas. Mom calluit ? imo quod tion ca excellentia, tamquare ipf uss. Amimmm adicerit : sic gnidem omples comprebendit,ut sula nwl- lus umam. : sic ad. Jummmmm emglas 7 wt alias milos ownling.\n"
          ]
        }
      ],
      "source": [
        "extracted_text = final_text  # Your OCR output\n",
        "clean_text = correct_case(extracted_text)\n",
        "print(clean_text)"
      ]
    },
    {
      "cell_type": "code",
      "execution_count": 72,
      "metadata": {
        "id": "qB74voT5WEBf"
      },
      "outputs": [],
      "source": [
        "transcript_path = \"/content/drive/MyDrive/human_ai_folder/testing_folder/page5.txt\"\n",
        "with open(transcript_path, \"r\", encoding=\"utf-8\") as f:\n",
        "    ground_truth_text = f.read().strip()\n",
        "\n",
        "\n",
        "ground_truth_text=normalize_text(ground_truth_text)"
      ]
    },
    {
      "cell_type": "code",
      "execution_count": 73,
      "metadata": {
        "colab": {
          "base_uri": "https://localhost:8080/",
          "height": 0
        },
        "id": "FgSO97J7WHqX",
        "outputId": "e4200347-7773-4cb5-fc0a-54170e80e835"
      },
      "outputs": [
        {
          "name": "stdout",
          "output_type": "stream",
          "text": [
            "\n",
            "CER (Character Error Rate): 0.2427\n",
            "WER (Word Error Rate): 0.7857\n"
          ]
        }
      ],
      "source": [
        "print(f\"\\nCER (Character Error Rate): {cer:.4f}\")\n",
        "print(f\"WER (Word Error Rate): {wer_value:.4f}\")"
      ]
    },
    {
      "cell_type": "code",
      "execution_count": 74,
      "metadata": {
        "colab": {
          "base_uri": "https://localhost:8080/",
          "height": 0
        },
        "id": "fAhYMp6DWIhu",
        "outputId": "2ae199a9-5a51-4b43-c3ae-ee1405bf211f"
      },
      "outputs": [
        {
          "name": "stdout",
          "output_type": "stream",
          "text": [
            "Character-Level F1-score: 0.8461538461538461\n"
          ]
        }
      ],
      "source": [
        "f1_char = character_f1(ground_truth_text, ocr_text)\n",
        "print(\"Character-Level F1-score:\", f1_char)"
      ]
    },
    {
      "cell_type": "code",
      "execution_count": 75,
      "metadata": {
        "colab": {
          "base_uri": "https://localhost:8080/",
          "height": 0
        },
        "id": "X0gvPw8wWLVP",
        "outputId": "e302e3ef-171e-43d5-8104-890650120748"
      },
      "outputs": [
        {
          "name": "stdout",
          "output_type": "stream",
          "text": [
            "Word-Level F1-score: 0.45037037037037037\n"
          ]
        }
      ],
      "source": [
        "f1_word = word_f1(ground_truth_text, ocr_text)\n",
        "print(\"Word-Level F1-score:\", f1_word)"
      ]
    }
  ],
  "metadata": {
    "colab": {
      "provenance": []
    },
    "kernelspec": {
      "display_name": "PyTorch2024",
      "language": "python",
      "name": "python3"
    },
    "language_info": {
      "name": "python",
      "version": "3.12.7"
    }
  },
  "nbformat": 4,
  "nbformat_minor": 0
}
