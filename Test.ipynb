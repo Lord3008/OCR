{
  "cells": [
    {
      "cell_type": "code",
      "execution_count": 41,
      "metadata": {
        "id": "kBQzgNOcrmeQ"
      },
      "outputs": [],
      "source": [
        "import cv2\n",
        "import pytesseract\n",
        "import numpy as np\n",
        "import os\n",
        "from tqdm import tqdm\n",
        "import matplotlib.pyplot as plt\n",
        "import re"
      ]
    },
    {
      "cell_type": "code",
      "execution_count": null,
      "metadata": {
        "colab": {
          "base_uri": "https://localhost:8080/",
          "height": 0
        },
        "id": "ZsF4pfbwuV80",
        "outputId": "26b56655-0151-47ef-f5c6-b5ccfe323e6e"
      },
      "outputs": [],
      "source": [
        "!pip install transformers torch torchvision Pillow datasets"
      ]
    },
    {
      "cell_type": "code",
      "execution_count": 43,
      "metadata": {
        "id": "PsqdbZdauY6L"
      },
      "outputs": [],
      "source": [
        "from PIL import Image\n",
        "from torch.nn.utils.rnn import pad_sequence\n",
        "import torch"
      ]
    },
    {
      "cell_type": "code",
      "execution_count": 44,
      "metadata": {
        "id": "jHRD_f73uoou"
      },
      "outputs": [],
      "source": [
        "image_path = \"/content/drive/MyDrive/human_ai_folder/testing_folder/Mendo-page_5.jpg\"\n",
        "image = cv2.imread(image_path)\n",
        "gray = cv2.cvtColor(image, cv2.COLOR_BGR2GRAY)"
      ]
    },
    {
      "cell_type": "code",
      "execution_count": 45,
      "metadata": {
        "id": "GCbbmuAoutgt"
      },
      "outputs": [],
      "source": [
        "data = pytesseract.image_to_data(gray, output_type=pytesseract.Output.DICT)"
      ]
    },
    {
      "cell_type": "code",
      "execution_count": null,
      "metadata": {
        "colab": {
          "base_uri": "https://localhost:8080/",
          "height": 807
        },
        "id": "B-DMz4x_u7Lm",
        "outputId": "22246b62-6227-46d5-bd9d-a6f181d7f875"
      },
      "outputs": [],
      "source": [
        "for i in range(len(data['text'])):\n",
        "    if int(data['conf'][i]) > 0:\n",
        "        x, y, w, h = data['left'][i], data['top'][i], data['width'][i], data['height'][i]\n",
        "        cv2.rectangle(image, (x, y), (x + w, y + h), (0, 255, 0), 2)\n",
        "\n",
        "plt.figure(figsize=(10, 10))\n",
        "plt.imshow(cv2.cvtColor(image, cv2.COLOR_BGR2RGB))\n",
        "plt.axis(\"off\")\n",
        "plt.show()"
      ]
    },
    {
      "cell_type": "code",
      "execution_count": null,
      "metadata": {
        "colab": {
          "base_uri": "https://localhost:8080/",
          "height": 0
        },
        "id": "rWO5MIYcEs8t",
        "outputId": "3fabe961-625e-4892-b600-acdf12bc8679"
      },
      "outputs": [],
      "source": [
        "!pip install difflib"
      ]
    },
    {
      "cell_type": "code",
      "execution_count": null,
      "metadata": {},
      "outputs": [],
      "source": [
        "from transformers import TrOCRProcessor, VisionEncoderDecoderModel"
      ]
    },
    {
      "cell_type": "code",
      "execution_count": null,
      "metadata": {},
      "outputs": [],
      "source": [
        "processor = TrOCRProcessor.from_pretrained(\"microsoft/trocr-base-printed\")\n",
        "model = VisionEncoderDecoderModel.from_pretrained(\"microsoft/trocr-base-printed\")"
      ]
    },
    {
      "cell_type": "code",
      "execution_count": null,
      "metadata": {
        "colab": {
          "base_uri": "https://localhost:8080/",
          "height": 0
        },
        "id": "6zUFQIGG0SFI",
        "outputId": "02868fd8-dec6-416f-fd05-612335526543"
      },
      "outputs": [],
      "source": [
        "device = \"cuda\" if torch.cuda.is_available() else \"cpu\"\n",
        "model.to(device)"
      ]
    },
    {
      "cell_type": "code",
      "execution_count": null,
      "metadata": {
        "colab": {
          "base_uri": "https://localhost:8080/",
          "height": 0
        },
        "id": "Bf0hyx9xu_R1",
        "outputId": "b058d715-a476-4e45-ab4a-c0dfd5bda949"
      },
      "outputs": [],
      "source": [
        "from torch.utils.data import Dataset\n",
        "from transformers import VisionEncoderDecoderModel, TrOCRProcessor\n",
        "from PIL import Image\n",
        "import torch"
      ]
    },
    {
      "cell_type": "code",
      "execution_count": null,
      "metadata": {},
      "outputs": [],
      "source": [
        "checkpoint_path = \"D:\\OCR_final\\OCR\\ocr_model\\checkpoint\""
      ]
    },
    {
      "cell_type": "code",
      "execution_count": null,
      "metadata": {},
      "outputs": [],
      "source": [
        "model = VisionEncoderDecoderModel.from_pretrained(checkpoint_path)\n",
        "processor = TrOCRProcessor.from_pretrained(\"microsoft/trocr-base-printed\")\n",
        "model.eval()"
      ]
    },
    {
      "cell_type": "code",
      "execution_count": null,
      "metadata": {},
      "outputs": [],
      "source": [
        "def process_text_regions(image, data):\n",
        "    extracted_text = \"\"\n",
        "\n",
        "    for i in range(len(data['text'])):\n",
        "        text = data['text'][i].strip()\n",
        "        if text:\n",
        "            x, y, w, h = data['left'][i], data['top'][i], data['width'][i], data['height'][i]\n",
        "            cropped_region = image[y:y+h, x:x+w]\n",
        "            pil_img = Image.fromarray(cropped_region).convert(\"RGB\")\n",
        "\n",
        "            pixel_values = processor(pil_img, return_tensors=\"pt\").pixel_values\n",
        "            generated_ids = model.generate(pixel_values)\n",
        "            decoded_text = processor.batch_decode(generated_ids, skip_special_tokens=True)[0]\n",
        "\n",
        "            extracted_text += decoded_text + \" \"\n",
        "\n",
        "    return extracted_text"
      ]
    },
    {
      "cell_type": "code",
      "execution_count": null,
      "metadata": {
        "colab": {
          "base_uri": "https://localhost:8080/",
          "height": 0
        },
        "id": "AmkCXdpuvKOu",
        "outputId": "7c1d5771-0e80-4efa-c559-9444d2d310b7"
      },
      "outputs": [
        {
          "name": "stderr",
          "output_type": "stream",
          "text": [
            "The channel dimension is ambiguous. Got image shape (3, 5, 3). Assuming channels are the first dimension.\n"
          ]
        },
        {
          "name": "stdout",
          "output_type": "stream",
          "text": [
            "Extracted Text:\n",
            "VIDEATUR mor CHARAGE. NO AY ON TODO EL LIBRO COTA CONTRA NUEITTA SANTA FE CATHOLICA, DI QUE DEEDIGADE 10 MORAL CR LAS COFTURBERS : CONQUE DEBE DARFELE IA LICENCLA,QUE DIDE. EN EFFE COLLEGIO DEL ARZOLIPO DE TOLEDO MI SERIOR,EL MAYOR DE SALAMANCA, DULIO 3.DE 1656 DOCTOR DON FRANCIFCO DE PWGA,Y FEYOO. LICENCIA DEL ORDINARIO. ON LUAN PEREZ DELGADO POR LA GRACIA DE DIOS,Y DE LA FANTA SEDE A POFTOLICA OBIFPO DE SALAMANCA,DEL CONTEJO DE fu MAGETTAD,&C.POR LA PRECENTE, POR IO QUE 1 NOS TOCA,DAMOS LICENCIA, PARA QUE TE PUEDA IMPRIMIR EL LIBRO INTICULARO PRINCIPE PERFETTO,Y MINIFROS AJAftADOS, DOCMMENOS POLITICOS,Y MORALES, COPUEFFO POR EL P.ANDRES MENDO DE LA COMPANIA DE LEFUS, RECTOR DEL COLLEGIO DC IRIZLEGES DE 1 VINIUERRIAD DEFTA DICHA CLUDADJATEN- TO, DE 1A CENTURA DEL DOCTOR DON FRANCIFCO DE PUGA, Y FEIJO,COLEGIAL DEL MAYOR DEL ARZOBIFPO DE TOLEDO DE- TA DICHA VINIUERFIDAD, Y CATBEDRACICO DE PRIMA DE CA- HONES DELIA,CONFRA, NO TIENE COFA ALGUNA CONTA MUELRA FANTA FE CATHOLICA, Y BUENAS COFTUMBERS.DADA CN SALA- MANCA X- FEIS DIAS DEL MES DE LULIO DE 1656. ANOS. LWAX OBIFPO DE SALAMANCA. POR MANDAJO DEL OPIFPO MI GENOR. BATTOLOME FERMANOER MONTOJO. LICENCIA DEL R.P. MIGWEL DE AFBIZ# PROWINGIAL DE LA COM- 7 PASIA DE LEFHS,EN LA PROMMGIA DE CAPILLA. 7 M GUELDE ARDIZU PROUNDIAL CLE IA COMPANIA DE REFUS CN LA PRODUCTIA DE CAFFILLA, POR RECECIAL COMIFION,QUE PARA ELLO TENGO DE NUEFFRO PADRE GOVVINO NIKEL PREPO- ITO GENERAL, : POOR LAS REFENTES QTY LICENCIA AL P.ANDRES MENPO RELIGIOTO DE DICHA COMPANIA, Y CALIFICADOR DE 1^ INQUIFICION UPTEMA,PARA QUE PUEDA IMPRIMIT VN LIBTO, QUE HA COMPLEFOOD : INTITULADO PRINCEPE PERFEETO, 2 MINIFROS AJW/TADOS, DOCMMEMTOS POLITICES, 2 MORALES : POR AURLE ViFFO, THANK YOU APROBADO PERFONAS GRAUES, Y doCTAS DE MUERRA RELIGION, 2 QUICN LE COMETIMOS. EN EP TE DELOGUAL, Y PARA QUE DELLO CON- TC, DAMOS EFTAS NUETRAS LETRAS RMADAS DE NUEFFRO NOM- BRE, > RELLADAS CON CL TELLO DE NUEFFRO OPICIO. EN BURGOS A 27. ENOULEMBRE DC 1636. MIGUEL DE ARDIZW. APRO \n"
          ]
        }
      ],
      "source": [
        "final_text = process_text_regions(gray, data)\n",
        "print(\"Extracted Text:\")\n",
        "print(final_text)"
      ]
    },
    {
      "cell_type": "code",
      "execution_count": null,
      "metadata": {
        "id": "STDQYNyQ0oUn"
      },
      "outputs": [],
      "source": [
        "def normalize_text(text):\n",
        "      text = text.replace(\"ſ\", \"s\") \n",
        "      text = text.replace(\"ç\", \"z\")  \n",
        "      text = text.replace(\"q̄\", \"que\") \n",
        "      text = text.replace(\"u\", \"v\") if \"v\" in text else text.replace(\"v\", \"u\")  \n",
        "      text = text.translate(str.maketrans(\"áéíóú\", \"aeiou\")) \n",
        "      return text"
      ]
    },
    {
      "cell_type": "code",
      "execution_count": null,
      "metadata": {
        "id": "oannqHvrP64t"
      },
      "outputs": [],
      "source": [
        "transcript_path = \"D:\\OCR_final\\EvalText\\Ezacary\\page_1_cleaned.txt\"\n",
        "with open(transcript_path, \"r\", encoding=\"utf-8\") as f:\n",
        "    original_text = f.read().strip()\n",
        "\n",
        "original_text=normalize_text(original_text)"
      ]
    },
    {
      "cell_type": "code",
      "execution_count": null,
      "metadata": {
        "colab": {
          "base_uri": "https://localhost:8080/",
          "height": 0
        },
        "id": "Pn8GnyzAP-UD",
        "outputId": "9364a9b4-f7c4-4864-a2ef-b9be1cb70365"
      },
      "outputs": [],
      "source": [
        "print(\"\\nGround Truth Transcript:\\n\", original_text)"
      ]
    },
    {
      "cell_type": "code",
      "execution_count": null,
      "metadata": {
        "colab": {
          "base_uri": "https://localhost:8080/",
          "height": 0
        },
        "id": "EBPJFM71QBNf",
        "outputId": "3f35f872-2f03-4fa1-8a4d-22858be8be93"
      },
      "outputs": [],
      "source": [
        "!pip install spacy\n",
        "!python -m spacy download es_core_news_sm"
      ]
    },
    {
      "cell_type": "code",
      "execution_count": null,
      "metadata": {
        "colab": {
          "base_uri": "https://localhost:8080/",
          "height": 0
        },
        "id": "li2jmGb6QFFl",
        "outputId": "54f9c6be-1147-4640-87da-1d23055542e7"
      },
      "outputs": [
        {
          "name": "stdout",
          "output_type": "stream",
          "text": [
            "Videatur mor charage. No ay on todo el libro cota contra nueitta santa fe catholica, di que deedigade 10 moral cr las cofturbers : conque debe darfele ia licencla,que dide. En effe collegio del arzolipo de toledo mi serior,el mayor de salamanca, dulio 3.de 1656 doctor don francifco de pwga,y feyoo. Licencia del ordinario. On luan perez delgado por la gracia de dios,y de la fanta sede a poftolica obifpo de salamanca,del contejo de fu magettad,&c.por la precente, por io que 1 nos toca,damos licencia, para que te pueda imprimir el libro inticularo principe perfetto,y minifros ajaftados, docmmenos politicos,y morales, copueffo por el p.andres mendo de la compania de lefus, rector del collegio dc irizleges de 1 viniuerriad defta dicha cludadjaten- to, de 1a centura del doctor don francifco de puga, y feijo,colegial del mayor del arzobifpo de toledo de- ta dicha viniuerfidad, y catbedracico de prima de ca- hones delia,confra, no tiene cofa alguna conta muelra fanta fe catholica, y buenas coftumbers.dada cn sala- manca x- feis dias del mes de lulio de 1656. Anos. Lwax obifpo de salamanca. Por mandajo del opifpo mi genor. Battolome fermanoer montojo. Licencia del r.p. Migwel de afbiz# prowingial de la com- 7 pasia de lefhs,en la prommgia de capilla. 7 m guelde ardizu proundial cle ia compania de refus cn la productia de caffilla, por rececial comifion,que para ello tengo de nueffro padre govvino nikel prepo- ito general, : poor las refentes qty licencia al p.andres menpo religioto de dicha compania, y calificador de 1^ inquificion uptema,para que pueda imprimit vn libto, que ha complefood : intitulado princepe perfeeto, 2 minifros ajw/tados, docmmemtos politices, 2 morales : por aurle viffo, thank you aprobado perfonas graues, y doctas de muerra religion, 2 quicn le cometimos. En ep te delogual, y para que dello con- tc, damos eftas nuetras letras rmadas de nueffro nom- bre, > relladas con cl tello de nueffro opicio. En burgos a 27. Enoulembre dc 1636. Miguel de ardizw. Apro\n"
          ]
        }
      ],
      "source": [
        "import re\n",
        "import spacy\n",
        "nlp = spacy.load(\"es_core_news_sm\")\n",
        "\n",
        "def correct_case(text):\n",
        "    text = text.lower()\n",
        "    doc = nlp(text)\n",
        "\n",
        "    corrected_text = \" \".join(\n",
        "        [sent.text.capitalize() for sent in doc.sents]\n",
        "    )\n",
        "\n",
        "    return corrected_text\n",
        "\n",
        "extracted_text = final_text \n",
        "clean_text = correct_case(extracted_text)\n",
        "print(clean_text)"
      ]
    },
    {
      "cell_type": "code",
      "execution_count": null,
      "metadata": {
        "colab": {
          "base_uri": "https://localhost:8080/",
          "height": 0
        },
        "id": "F5BIRIveQNkr",
        "outputId": "b61740f0-8376-4117-9af5-028944649bf7"
      },
      "outputs": [],
      "source": [
        "!pip install Levenshtein jiwer"
      ]
    },
    {
      "cell_type": "markdown",
      "metadata": {
        "id": "t9QmLDAbeXV7"
      },
      "source": [
        "## Evaluation:"
      ]
    },
    {
      "cell_type": "code",
      "execution_count": null,
      "metadata": {},
      "outputs": [],
      "source": [
        "from sklearn.metrics import precision_score\n",
        "from sklearn.metrics import recall_score\n",
        "from sklearn.metrics import f1_score\n",
        "from difflib import SequenceMatcher"
      ]
    },
    {
      "cell_type": "code",
      "execution_count": null,
      "metadata": {},
      "outputs": [],
      "source": [
        "def character_f1(ground_truth, ocr_text):\n",
        "    ground_truth = ground_truth.lower().replace(\" \", \"\")\n",
        "    ocr_text = ocr_text.lower().replace(\" \", \"\")\n",
        "\n",
        "    char_set = set(ground_truth) | set(ocr_text)\n",
        "    gt_vector = [1 if c in ground_truth else 0 for c in char_set]\n",
        "    ocr_vector = [1 if c in ocr_text else 0 for c in char_set]\n",
        "\n",
        "    f1 = f1_score(gt_vector, ocr_vector, average='binary')\n",
        "    return f1"
      ]
    },
    {
      "cell_type": "code",
      "execution_count": null,
      "metadata": {
        "colab": {
          "base_uri": "https://localhost:8080/",
          "height": 0
        },
        "id": "D_0GnDquFK7u",
        "outputId": "7ea2da4e-ea49-4924-c494-789a9ccf3fa5"
      },
      "outputs": [
        {
          "name": "stdout",
          "output_type": "stream",
          "text": [
            "Character-Level F1-score: 0.8461538461538461\n"
          ]
        }
      ],
      "source": [
        "original_text = original_text\n",
        "ocr_text = clean_text\n",
        "\n",
        "f1_char = character_f1(original_text, ocr_text)\n",
        "print(\"Character-Level F1-score:\", f1_char)"
      ]
    },
    {
      "cell_type": "code",
      "execution_count": null,
      "metadata": {
        "colab": {
          "base_uri": "https://localhost:8080/",
          "height": 0
        },
        "id": "NvHoj8pVUVvC",
        "outputId": "b413d0d5-2a2b-47d0-f30f-4c50acba2987"
      },
      "outputs": [
        {
          "name": "stdout",
          "output_type": "stream",
          "text": [
            "Word-Level F1-score: 0.45037037037037037\n"
          ]
        }
      ],
      "source": [
        "from sklearn.metrics import precision_score, recall_score, f1_score\n",
        "from collections import Counter\n",
        "\n",
        "def word_f1(ground_truth, ocr_text):\n",
        "    gt_words = ground_truth.lower().split()\n",
        "    ocr_words = ocr_text.lower().split()\n",
        "\n",
        "    gt_counter = Counter(gt_words)\n",
        "    ocr_counter = Counter(ocr_words)\n",
        "\n",
        "    common_words = sum((gt_counter & ocr_counter).values())\n",
        "    precision = common_words / sum(ocr_counter.values()) if sum(ocr_counter.values()) > 0 else 0\n",
        "    recall = common_words / sum(gt_counter.values()) if sum(gt_counter.values()) > 0 else 0\n",
        "\n",
        "    if precision + recall == 0:\n",
        "        return 0 \n",
        "    f1 = 2 * (precision * recall) / (precision + recall)\n",
        "    return f1\n",
        "\n",
        "f1_word = word_f1(original_text, ocr_text)\n",
        "print(\"Word-Level F1-score:\", f1_word)"
      ]
    },
    {
      "cell_type": "code",
      "execution_count": null,
      "metadata": {
        "id": "9dIekBgSQcRb"
      },
      "outputs": [],
      "source": [
        "image_path = \"OCR/training_file/processed_images/Buendia-page_1.jpg\"\n",
        "image = cv2.imread(image_path)\n",
        "gray = cv2.cvtColor(image, cv2.COLOR_BGR2GRAY)"
      ]
    },
    {
      "cell_type": "code",
      "execution_count": 61,
      "metadata": {
        "id": "ilG_DIvObhWQ"
      },
      "outputs": [],
      "source": [
        "data = pytesseract.image_to_data(gray, output_type=pytesseract.Output.DICT)"
      ]
    },
    {
      "cell_type": "code",
      "execution_count": 62,
      "metadata": {
        "colab": {
          "base_uri": "https://localhost:8080/",
          "height": 0
        },
        "id": "nBVPVL59bnpj",
        "outputId": "989e8d38-bdf1-4189-b84e-6824585d9084"
      },
      "outputs": [
        {
          "name": "stdout",
          "output_type": "stream",
          "text": [
            "Extracted Text:\n",
            "ICS PER VOS : DULCISIMO NINO : 3 1 JESUS : QUE NO TOLO OS : GSTRA 3 DIGNAFEIS DE LLAMARDS DOCTOR DE LOS NINOS, 1 INO TAMBIEN DE AISIF- CIR COMO NINO ENTRE LOS DOCTORES, TE CONFAGRA HUMILDE ETTA PEQUENA INSTRUCTION DE LOS NINOS. ES AISI, QUE ELLA TAMBIEN TE DIRICE 2 LA JU- VENTUD : PERO AEFTA, COMO RECUER- DO DE 10 QUE APRENDIO, ALOS NI- NOS > COMO PRECIFA EXPLICACION DE 10 QUE DEBEN EFTUDIAR. POR EFTE TO- IO TITULO.ES MUY VUEFRA > Y POR TER PARA NINOS , QUE CONFAIS 2 LA EDUCACION DE VUEFRA COMPANIA, 10 CS MUCHO MAS. EN VOS, ( DIVI- NO EXEMPLAR DE TODAS LAS VIRTU- DES ) ) TIENEN ABREVIADO CL MAS TE- \n"
          ]
        }
      ],
      "source": [
        "final_text = process_text_regions(gray, data)\n",
        "print(\"Extracted Text:\")\n",
        "print(final_text)"
      ]
    },
    {
      "cell_type": "code",
      "execution_count": null,
      "metadata": {
        "colab": {
          "base_uri": "https://localhost:8080/",
          "height": 0
        },
        "id": "4DrpRzxdbvIt",
        "outputId": "fa0fd12f-7b0c-492d-904f-00528668e0c2"
      },
      "outputs": [
        {
          "name": "stdout",
          "output_type": "stream",
          "text": [
            "Ics per vos : dulcisimo nino : 3 1 jesus : que no tolo os : gstra 3 dignafeis de llamards doctor de los ninos, 1 ino tambien de aisif- cir como nino entre los doctores, te confagra humilde etta pequena instruction de los ninos. Es aisi, que ella tambien te dirice 2 la ju- ventud : pero aefta, como recuer- do de 10 que aprendio, alos ni- nos > como precifa explicacion de 10 que deben eftudiar. Por efte to- io titulo.es muy vuefra > y por ter para ninos , que confais 2 la educacion de vuefra compania, 10 cs mucho mas. En vos, ( divi- no exemplar de todas las virtu- des ) ) tienen abreviado cl mas te-\n"
          ]
        }
      ],
      "source": [
        "extracted_text = final_text\n",
        "clean_text = correct_case(extracted_text)\n",
        "print(clean_text)"
      ]
    },
    {
      "cell_type": "code",
      "execution_count": null,
      "metadata": {
        "colab": {
          "base_uri": "https://localhost:8080/",
          "height": 0
        },
        "id": "f7lGDLKzb_0n",
        "outputId": "e9c9540c-e1fe-41ac-b99c-ae3aa204f156"
      },
      "outputs": [],
      "source": [
        "transcript_path = \"D:\\OCR_final\\OCR\\training_file\\transcript\\transcript_Buendia\\page1.txt\"\n",
        "with open(transcript_path, \"r\", encoding=\"utf-8\") as f:\n",
        "    original_text = f.read().strip()\n",
        "\n",
        "\n",
        "original_text=normalize_text(original_text)\n",
        "print(original_text)"
      ]
    },
    {
      "cell_type": "code",
      "execution_count": 65,
      "metadata": {
        "colab": {
          "base_uri": "https://localhost:8080/",
          "height": 0
        },
        "id": "u17s5vSUcJQd",
        "outputId": "f9d6d43d-f189-4cf5-84a9-f1f5d1731ca3"
      },
      "outputs": [
        {
          "name": "stdout",
          "output_type": "stream",
          "text": [
            "\n",
            "CER (Character Error Rate): 0.2427\n",
            "WER (Word Error Rate): 0.7857\n"
          ]
        }
      ],
      "source": [
        "print(f\"\\nCER (Character Error Rate): {cer:.4f}\")\n",
        "print(f\"WER (Word Error Rate): {wer_value:.4f}\")"
      ]
    },
    {
      "cell_type": "code",
      "execution_count": null,
      "metadata": {
        "colab": {
          "base_uri": "https://localhost:8080/",
          "height": 0
        },
        "id": "JrJuJTZneM-0",
        "outputId": "22c9697e-9ae9-4b9c-d10c-d28729b236c2"
      },
      "outputs": [
        {
          "name": "stdout",
          "output_type": "stream",
          "text": [
            "Character-Level F1-score: 0.8461538461538461\n"
          ]
        }
      ],
      "source": [
        "f1_char = character_f1(original_text, ocr_text)\n",
        "print(\"Character-Level F1-score:\", f1_char)"
      ]
    },
    {
      "cell_type": "code",
      "execution_count": null,
      "metadata": {
        "colab": {
          "base_uri": "https://localhost:8080/",
          "height": 0
        },
        "id": "B_QBsWquT9Sm",
        "outputId": "a0016a9f-bf3f-4e97-c86d-ba956caeb8c2"
      },
      "outputs": [
        {
          "name": "stdout",
          "output_type": "stream",
          "text": [
            "Word-Level F1-score: 0.45037037037037037\n"
          ]
        }
      ],
      "source": [
        "f1_word = word_f1(original_text, ocr_text)\n",
        "print(\"Word-Level F1-score:\", f1_word)"
      ]
    }
  ],
  "metadata": {
    "colab": {
      "provenance": []
    },
    "kernelspec": {
      "display_name": "PyTorch2024",
      "language": "python",
      "name": "python3"
    },
    "language_info": {
      "codemirror_mode": {
        "name": "ipython",
        "version": 3
      },
      "file_extension": ".py",
      "mimetype": "text/x-python",
      "name": "python",
      "nbconvert_exporter": "python",
      "pygments_lexer": "ipython3",
      "version": "3.12.7"
    }
  },
  "nbformat": 4,
  "nbformat_minor": 0
}
