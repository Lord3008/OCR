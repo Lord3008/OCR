{
  "cells": [
    {
      "cell_type": "markdown",
      "metadata": {},
      "source": [
        "#### Text detection with Pytesseract Library of Python:\n",
        "This is done ro find the position of the text in the image"
      ]
    },
    {
      "cell_type": "code",
      "execution_count": null,
      "metadata": {
        "colab": {
          "base_uri": "https://localhost:8080/"
        },
        "id": "arbfwfe54s0K",
        "outputId": "3f9c67f3-5738-4071-f379-d3dc90886e28"
      },
      "outputs": [],
      "source": [
        "import cv2\n",
        "import pytesseract\n",
        "import numpy as np\n",
        "import os\n",
        "from tqdm import tqdm\n",
        "import matplotlib.pyplot as plt"
      ]
    },
    {
      "cell_type": "code",
      "execution_count": null,
      "metadata": {},
      "outputs": [],
      "source": [
        "input_dir = \"D:\\OCR_final\\OCR\\training_file\\processed_images\"\n",
        "output_dir = \"D:\\OCR_final\\out\"\n",
        "os.makedirs(output_dir, exist_ok=True)\n",
        "image_files = [os.path.join(input_dir, f) for f in os.listdir(input_dir) if f.endswith('.jpg')]"
      ]
    },
    {
      "cell_type": "code",
      "execution_count": null,
      "metadata": {},
      "outputs": [],
      "source": [
        "for img_path in tqdm(image_files):\n",
        "    image = cv2.imread(img_path)\n",
        "    gray = cv2.cvtColor(image, cv2.COLOR_BGR2GRAY)\n",
        "\n",
        "    thresh = cv2.adaptiveThreshold(gray, 255, cv2.ADAPTIVE_THRESH_GAUSSIAN_C, cv2.THRESH_BINARY, 11, 2)\n",
        "    kernel = np.ones((2, 2), np.uint8)\n",
        "    morph = cv2.morphologyEx(thresh, cv2.MORPH_CLOSE, kernel, iterations=1)\n",
        "    morph = cv2.dilate(morph, kernel, iterations=1)\n",
        "\n",
        "    data = pytesseract.image_to_data(morph, output_type=pytesseract.Output.DICT)\n",
        "    for i in range(len(data['text'])):\n",
        "        if int(data['conf'][i]) > 30:  # Filter low-confidence words\n",
        "            x, y, w, h = data['left'][i], data['top'][i], data['width'][i], data['height'][i]\n",
        "            cv2.rectangle(image, (x, y), (x + w, y + h), (0, 255, 0), 2)\n",
        "\n",
        "    output_path = os.path.join(output_dir, os.path.basename(img_path))\n",
        "    cv2.imwrite(output_path, image)"
      ]
    },
    {
      "cell_type": "code",
      "execution_count": null,
      "metadata": {
        "colab": {
          "base_uri": "https://localhost:8080/"
        },
        "id": "bC5xiWQm4z6D",
        "outputId": "748b8aa8-60e7-4c1f-9ee0-3db25d014cb7"
      },
      "outputs": [],
      "source": [
        "import os\n",
        "import re\n",
        "from glob import glob"
      ]
    },
    {
      "cell_type": "code",
      "execution_count": null,
      "metadata": {},
      "outputs": [],
      "source": [
        "img_dir = \"D:\\OCR_final\\out\"\n",
        "txt_dir = \"D:\\OCR_final\\OCR\\training_file\\transcript\"\n",
        "image_files = sorted(glob(os.path.join(img_dir, \"*.jpg\")))"
      ]
    },
    {
      "cell_type": "code",
      "execution_count": null,
      "metadata": {},
      "outputs": [],
      "source": [
        "def extract_doc_and_page(image_filename):\n",
        "    match = re.match(r\"(.*)-page_(\\d+)\", image_filename)\n",
        "    if match:\n",
        "        doc_name, page_num = match.groups()\n",
        "        return doc_name, f\"page{page_num}.txt\"\n",
        "    return None, None"
      ]
    },
    {
      "cell_type": "code",
      "execution_count": null,
      "metadata": {},
      "outputs": [],
      "source": [
        "image_text_pairs = []\n",
        "for img_path in image_files:\n",
        "    img_name = os.path.basename(img_path).replace(\".jpg\", \"\")\n",
        "    doc_name, page_filename = extract_doc_and_page(img_name)\n",
        "\n",
        "    if doc_name and page_filename:\n",
        "        transcript_folder = os.path.join(txt_dir, f\"transcript_{doc_name}\")\n",
        "        text_path = os.path.join(transcript_folder, page_filename)\n",
        "\n",
        "        if os.path.exists(text_path):\n",
        "            image_text_pairs.append((img_path, text_path))\n",
        "\n",
        "print(f\"Found {len(image_text_pairs)} image-text pairs\")\n",
        "for i, (img, txt) in enumerate(image_text_pairs[:5]): \n",
        "    print(f\"Sample {i+1}:\")\n",
        "    print(f\"  Image Path    : {img}\")\n",
        "    print(f\"  Transcript Path: {txt}\")\n",
        "    print(\"-\" * 50)"
      ]
    },
    {
      "cell_type": "code",
      "execution_count": null,
      "metadata": {
        "colab": {
          "base_uri": "https://localhost:8080/"
        },
        "id": "WEF3RkXl5ah0",
        "outputId": "6d771980-be82-43e7-9d37-3b18f1d0f4ce"
      },
      "outputs": [],
      "source": [
        "import albumentations as A\n",
        "import cv2\n",
        "import numpy as np\n",
        "from tqdm import tqdm"
      ]
    },
    {
      "cell_type": "code",
      "execution_count": null,
      "metadata": {},
      "outputs": [],
      "source": [
        "augmentations = A.Compose([\n",
        "    A.Rotate(limit=3, p=0.5), \n",
        "    A.RandomBrightnessContrast(p=0.5),  \n",
        "    A.GaussNoise(var_limit=(10.0, 50.0), p=0.4),  \n",
        "    A.MotionBlur(blur_limit=3, p=0.3),\n",
        "])"
      ]
    },
    {
      "cell_type": "code",
      "execution_count": null,
      "metadata": {},
      "outputs": [],
      "source": [
        "augmented_data_dir = \"D:\\OCR_final\\OCR\\aug\"\n",
        "os.makedirs(augmented_data_dir, exist_ok=True)\n",
        "\n",
        "num_augmentations = 10 \n",
        "augmented_pairs = []\n",
        "\n",
        "for img_path, text_path in tqdm(image_text_pairs):\n",
        "    img = cv2.imread(img_path)\n",
        "    img = cv2.cvtColor(img, cv2.COLOR_BGR2RGB)\n",
        "\n",
        "    img_name = os.path.basename(img_path)\n",
        "    orig_img_path = os.path.join(augmented_data_dir, img_name)\n",
        "    cv2.imwrite(orig_img_path, cv2.cvtColor(img, cv2.COLOR_RGB2BGR))\n",
        "    augmented_pairs.append((orig_img_path, text_path))\n",
        "\n",
        "    for i in range(1, num_augmentations + 1):\n",
        "        augmented_img = augmentations(image=img)[\"image\"]\n",
        "        aug_img_name = img_name.replace(\".jpg\", f\"_aug{i}.jpg\")\n",
        "\n",
        "        aug_img_path = os.path.join(augmented_data_dir, aug_img_name)\n",
        "        cv2.imwrite(aug_img_path, cv2.cvtColor(augmented_img, cv2.COLOR_RGB2BGR))\n",
        "\n",
        "        augmented_pairs.append((aug_img_path, text_path))"
      ]
    },
    {
      "cell_type": "code",
      "execution_count": null,
      "metadata": {
        "colab": {
          "base_uri": "https://localhost:8080/"
        },
        "id": "o_OmamRL5gj3",
        "outputId": "cc62ad10-33f3-4d59-d29b-83e5771b5dbe"
      },
      "outputs": [],
      "source": [
        "for i, (img, txt) in enumerate(augmented_pairs[:5]):\n",
        "    print(f\"Augmented Sample {i+1}:\")\n",
        "    print(f\"  Image Path    : {img}\")\n",
        "    print(f\"  Transcript Path: {txt}\")\n",
        "    print(\"-\" * 50)"
      ]
    },
    {
      "cell_type": "code",
      "execution_count": null,
      "metadata": {
        "colab": {
          "base_uri": "https://localhost:8080/",
          "height": 1000
        },
        "id": "d1dMfJ3i5rgY",
        "outputId": "65d87bd3-d6c9-40b0-dcf4-dd1be05cbd93"
      },
      "outputs": [],
      "source": [
        "!pip install transformers torch torchvision Pillow datasets"
      ]
    },
    {
      "cell_type": "code",
      "execution_count": null,
      "metadata": {
        "id": "fkchOhX15rc9"
      },
      "outputs": [],
      "source": [
        "from torch.utils.data import Dataset\n",
        "from PIL import Image\n",
        "from torch.nn.utils.rnn import pad_sequence\n",
        "import torch\n",
        "\n",
        "class OCRDataset(Dataset):\n",
        "    def __init__(self, image_text_pairs, processor,max_length=512):\n",
        "        self.image_text_pairs = image_text_pairs\n",
        "        self.processor = processor\n",
        "        self.max_length=max_length\n",
        "\n",
        "    def normalize_text(self, text):\n",
        "        \"\"\"Apply historical OCR normalization rules\"\"\"\n",
        "        text = text.replace(\"ſ\", \"s\") \n",
        "        text = text.replace(\"ç\", \"z\") \n",
        "        text = text.replace(\"q̄\", \"que\") \n",
        "        text = text.replace(\"u\", \"v\") if \"v\" in text else text.replace(\"v\", \"u\") \n",
        "        text = text.translate(str.maketrans(\"áéíóú\", \"aeiou\"))  \n",
        "        return text\n",
        "\n",
        "\n",
        "\n",
        "    def __len__(self):\n",
        "        return len(self.image_text_pairs)\n",
        "\n",
        "\n",
        "    def __getitem__(self, idx):\n",
        "        img_path, text_path = self.image_text_pairs[idx]\n",
        "\n",
        "        image = Image.open(img_path).convert(\"RGB\")\n",
        "\n",
        "        with open(text_path, \"r\", encoding=\"utf-8\") as f:\n",
        "            text = f.read().strip()\n",
        "\n",
        "        text = self.normalize_text(text)\n",
        "\n",
        "\n",
        "        encoding = self.processor(\n",
        "            image,\n",
        "            text,\n",
        "            padding=\"max_length\",\n",
        "            truncation=True,\n",
        "            max_length=self.max_length,\n",
        "            return_tensors=\"pt\"\n",
        "            )\n",
        "\n",
        "        return {\n",
        "            \"pixel_values\": encoding[\"pixel_values\"].squeeze(0),  \n",
        "            \"labels\": encoding[\"labels\"].squeeze(0),   \n",
        "            }"
      ]
    },
    {
      "cell_type": "code",
      "execution_count": null,
      "metadata": {},
      "outputs": [],
      "source": [
        "def collate_fn(batch):\n",
        "    pixel_values = torch.stack([item['pixel_values'] for item in batch])\n",
        "\n",
        "    labels = pad_sequence([item['labels'] for item in batch], batch_first=True, padding_value=-100)\n",
        "    return {'pixel_values': pixel_values, 'labels': labels}"
      ]
    },
    {
      "cell_type": "code",
      "execution_count": null,
      "metadata": {
        "colab": {
          "base_uri": "https://localhost:8080/",
          "height": 1000,
          "referenced_widgets": [
            "c5ba60217189430ea19523c41441c35b",
            "8e4e57583dd940608fd967fe909a0dbc",
            "ed9b80663cf745188fa7efdf83b6f590",
            "cc47fc574aec43d38eb7a1880a8e6c45",
            "1caa6e3bf17e49a4b17f4b9b3379e5c0",
            "49c83c7a13d0491c8beb7e120b608d35",
            "f41d6d2db48847258bdc664c6dd6be28",
            "18b37e121d40419eb2b752e9d74f5bbe",
            "fdb830bd116442f0a9eda816657bdb3b",
            "42b58c484c50474e9ad09073bb7aa0e7",
            "0f91a02dabae4f3993a97afef680658d",
            "6052be75829b40b9950bdbf071681225",
            "07f35560e89a481c81bbecdefd40be7a",
            "31a93f47d13a4b2f9cabf8dba4450fdd",
            "7ad76d99d99d43d084c2136af8bf1ab9",
            "0515a00026804dd6bef311bf360fe541",
            "7c5a45c3a7a34377b362664968b07cb7",
            "e95502beaf8a4f2d90fd04e69463b679",
            "520fdd9a3e524289bd06e1132071574d",
            "f0cacec389034f519ff3e821dcb94b81",
            "84bbf5bc992541e695a7c8da89fb4063",
            "e2ce72671f6f4bdf9ad09286c85c019c",
            "2c7a1ec6c45b45a49421b72a74df1d7d",
            "f39226261dea4a29afd516827a983285",
            "4514c0a640134d04bc43a5aec890811f",
            "011f6d5b577f42dda34d5c1274a7bcfc",
            "a3f8963778fb4f168290f6927de628a5",
            "bca70daac9a045bb9b2361a82e248bbc",
            "ba909d3e81ab4b98966c25591c5be9ec",
            "1581e3f64f914bfcb6e3e8d74f43b16d",
            "a220f636cc884c5c866f5f6d029305c7",
            "5cc74f6222564abba60f6da6e2d3a688",
            "f374d4dbd1f040649d2b0e7b36e6bd26",
            "3139517ef6214c09af766761f4f893d5",
            "5e9bdc65bbb04e5ab114d323185648cf",
            "009b5d32e18c4276b46cfc8fca20a068",
            "889665c71f7a4d67aa0ddc117c9de2f9",
            "60f4c4d0109d429b9a6d35733c5e6aad",
            "9a1cd6e053364cdd95536ad587b0d242",
            "494e73d0d99041239bbb959608c5712d",
            "098f9a60923a4e448b0d5b11bd7149db",
            "65afefdddbe24d8097768b1fadb1ae02",
            "4f5aedcbcad64c27ae7720448cd4c1d8",
            "7a5dd300e2654bd7ab251fbc5677bda4"
          ]
        },
        "id": "OYCmafy45rYj",
        "outputId": "ff9ab9a1-da97-448f-926c-8f3dc96611e5"
      },
      "outputs": [],
      "source": [
        "from transformers import TrOCRProcessor, VisionEncoderDecoderModel\n",
        "\n",
        "processor = TrOCRProcessor.from_pretrained(\"microsoft/trocr-base-printed\")\n",
        "model = VisionEncoderDecoderModel.from_pretrained(\"microsoft/trocr-base-printed\")\n",
        "\n",
        "device = \"cuda\" if torch.cuda.is_available() else \"cpu\"\n",
        "model.to(device)\n",
        "print(device)\n",
        "print(model)"
      ]
    },
    {
      "cell_type": "code",
      "execution_count": null,
      "metadata": {
        "colab": {
          "base_uri": "https://localhost:8080/"
        },
        "id": "bKGpv6CW5rVs",
        "outputId": "9c0220fc-4bbd-4047-de00-bf4603283b72"
      },
      "outputs": [],
      "source": [
        "from sklearn.model_selection import train_test_split\n",
        "\n",
        "train_pairs, val_pairs = train_test_split(augmented_pairs, test_size=0.2, random_state=42)"
      ]
    },
    {
      "cell_type": "code",
      "execution_count": null,
      "metadata": {},
      "outputs": [],
      "source": [
        "train_dataset = OCRDataset(train_pairs, processor)\n",
        "val_dataset = OCRDataset(val_pairs, processor)"
      ]
    },
    {
      "cell_type": "code",
      "execution_count": null,
      "metadata": {
        "id": "lWCZCsaNgFhy"
      },
      "outputs": [],
      "source": [
        "def postprocess_ocr_output(text):\n",
        "    text = text.replace(\"ſ\", \"s\") \n",
        "    text = text.replace(\"ç\", \"z\")  \n",
        "    text = text.replace(\"q̄\", \"que\") \n",
        "    text = text.translate(str.maketrans(\"áéíóú\", \"aeiou\")) \n",
        "    return text"
      ]
    },
    {
      "cell_type": "code",
      "execution_count": null,
      "metadata": {
        "colab": {
          "background_save": true
        },
        "id": "OxsgGKzu6F69"
      },
      "outputs": [],
      "source": [
        "import torch\n",
        "import torch.nn as nn\n",
        "from transformers import Trainer"
      ]
    },
    {
      "cell_type": "code",
      "execution_count": null,
      "metadata": {},
      "outputs": [],
      "source": [
        "class CustomTrainer(Trainer):\n",
        "    def __init__(self, processor,*args, **kwargs):\n",
        "        super().__init__(*args, **kwargs)\n",
        "        self.ctc_loss = nn.CTCLoss(blank=processor.tokenizer.pad_token_id, zero_infinity=True)\n",
        "        self.processor=processor\n",
        "\n",
        "    def compute_loss(self, model, inputs,num_items_in_batch=None, return_outputs=False):\n",
        "        pixel_values = inputs[\"pixel_values\"]\n",
        "        labels = inputs[\"labels\"]\n",
        "\n",
        "        outputs = model(pixel_values, labels=labels)\n",
        "        logits = outputs.logits \n",
        "        loss = outputs.loss \n",
        "\n",
        "        input_lengths = torch.full(\n",
        "            (logits.shape[0],), logits.shape[1], dtype=torch.long\n",
        "        )\n",
        "        target_lengths = (labels != -100).sum(dim=-1) \n",
        "\n",
        "        labels = torch.where(labels == -100, processor.tokenizer.pad_token_id, labels)\n",
        "\n",
        "        loss = self.ctc_loss(\n",
        "            logits.permute(1, 0, 2).log_softmax(2), \n",
        "            labels,\n",
        "            input_lengths,\n",
        "            target_lengths\n",
        "        )\n",
        "\n",
        "        pred_texts = self.processor.batch_decode(logits.argmax(dim=-1), skip_special_tokens=True)\n",
        "        gt_texts = self.processor.batch_decode(labels, skip_special_tokens=True)\n",
        "\n",
        "        pred_texts = [postprocess_ocr_output(txt) for txt in pred_texts]  \n",
        "        gt_texts = [postprocess_ocr_output(txt) for txt in gt_texts]\n",
        "\n",
        "        return (loss, outputs) if return_outputs else loss"
      ]
    },
    {
      "cell_type": "code",
      "execution_count": null,
      "metadata": {
        "colab": {
          "background_save": true
        },
        "id": "Cv-xY2Vq6HYy"
      },
      "outputs": [],
      "source": [
        "model.config.decoder_start_token_id = processor.tokenizer.cls_token_id\n",
        "model.config.pad_token_id = processor.tokenizer.pad_token_id"
      ]
    },
    {
      "cell_type": "code",
      "execution_count": null,
      "metadata": {
        "colab": {
          "background_save": true
        },
        "id": "AmZB-1Wc6HKP",
        "outputId": "274a22e8-e58e-44d1-fef5-1f158cf246cc"
      },
      "outputs": [],
      "source": [
        "from transformers import Trainer, TrainingArguments\n",
        "\n",
        "training_args = TrainingArguments(\n",
        "    output_dir=\"/content/drive/MyDrive/human_ai_folder/ocr_model\",\n",
        "    per_device_train_batch_size=4,  \n",
        "    per_device_eval_batch_size=4,\n",
        "    gradient_accumulation_steps=2, \n",
        "    evaluation_strategy=\"epoch\",\n",
        "    save_strategy=\"epoch\",\n",
        "    save_total_limit=4,\n",
        "    num_train_epochs=15,\n",
        "    logging_dir=\"/content/drive/MyDrive/human_ai_folder/log\",\n",
        "    logging_steps=50,\n",
        "    logging_strategy=\"steps\",\n",
        "    learning_rate=3e-5,\n",
        "    weight_decay=0.01,\n",
        "    warmup_steps=500,\n",
        "    lr_scheduler_type=\"linear\",\n",
        "    load_best_model_at_end=True,\n",
        "    fp16=True,\n",
        "    push_to_hub=False\n",
        ")"
      ]
    },
    {
      "cell_type": "code",
      "execution_count": null,
      "metadata": {},
      "outputs": [],
      "source": [
        "trainer = CustomTrainer(\n",
        "    model=model,\n",
        "    args=training_args,\n",
        "    train_dataset=train_dataset,\n",
        "    eval_dataset=val_dataset,\n",
        "    tokenizer=processor.tokenizer,\n",
        "    data_collator=collate_fn,\n",
        "    processor=processor\n",
        ")"
      ]
    },
    {
      "cell_type": "code",
      "execution_count": null,
      "metadata": {
        "colab": {
          "background_save": true
        },
        "id": "jwqOWHzJ6SVx"
      },
      "outputs": [],
      "source": [
        "from accelerate import Accelerator\n",
        "accelerator = Accelerator()\n",
        "accelerator.state._reset_state()\n",
        "accelerator = Accelerator()  \n",
        "\n",
        "trainer.accelerator = accelerator"
      ]
    },
    {
      "cell_type": "code",
      "execution_count": null,
      "metadata": {
        "id": "3I-dRQaN6T_L"
      },
      "outputs": [],
      "source": [
        "trainer.train()"
      ]
    },
    {
      "cell_type": "code",
      "execution_count": null,
      "metadata": {
        "id": "5va5xYTZd1fJ"
      },
      "outputs": [],
      "source": [
        "image_path = \"D:\\OCR_final\\OCR\\training_file\\processed_images\\Buendia-page_1.jpg\"\n",
        "image = cv2.imread(image_path)\n",
        "gray = cv2.cvtColor(image, cv2.COLOR_BGR2GRAY)"
      ]
    },
    {
      "cell_type": "code",
      "execution_count": 19,
      "metadata": {
        "id": "IZHJUAjseh6B"
      },
      "outputs": [],
      "source": [
        "data = pytesseract.image_to_data(gray, output_type=pytesseract.Output.DICT)"
      ]
    },
    {
      "cell_type": "code",
      "execution_count": null,
      "metadata": {
        "colab": {
          "base_uri": "https://localhost:8080/",
          "height": 807
        },
        "id": "QO7nfhL6e4Ci",
        "outputId": "bdda5e34-c5b1-45e1-d589-18f0cfe93dcc"
      },
      "outputs": [],
      "source": [
        "for i in range(len(data['text'])):\n",
        "    if int(data['conf'][i]) > 0:  \n",
        "        x, y, w, h = data['left'][i], data['top'][i], data['width'][i], data['height'][i]\n",
        "        cv2.rectangle(image, (x, y), (x + w, y + h), (0, 255, 0), 2)\n",
        "\n",
        "plt.figure(figsize=(10, 10))\n",
        "plt.imshow(cv2.cvtColor(image, cv2.COLOR_BGR2RGB))\n",
        "plt.axis(\"off\")\n",
        "plt.show()"
      ]
    },
    {
      "cell_type": "code",
      "execution_count": null,
      "metadata": {
        "colab": {
          "base_uri": "https://localhost:8080/"
        },
        "id": "EkITGe79E0vv",
        "outputId": "2b742155-19ac-422a-914e-acf72b5a34bd"
      },
      "outputs": [],
      "source": [
        "from transformers import VisionEncoderDecoderModel, TrOCRProcessor\n",
        "from PIL import Image\n",
        "import torch\n",
        "\n",
        "checkpoint_path = \"D:\\OCR_final\\OCR\\ocr_model\\checkpoint\"  \n",
        "\n",
        "model = VisionEncoderDecoderModel.from_pretrained(checkpoint_path)\n",
        "processor = TrOCRProcessor.from_pretrained(\"microsoft/trocr-base-printed\")\n",
        "model.eval()"
      ]
    },
    {
      "cell_type": "code",
      "execution_count": null,
      "metadata": {
        "colab": {
          "base_uri": "https://localhost:8080/"
        },
        "id": "vyITOm-6PUs5",
        "outputId": "4f7f4823-11fc-4fa4-f3e0-4468d0171b4f"
      },
      "outputs": [
        {
          "name": "stdout",
          "output_type": "stream",
          "text": [
            "Extracted Text:\n",
            "RIEDAD DEL AFUMPTO,VIAUDOLE GRAUE,Y ONDEROFO,FIN UC IE ENCUMBRE LA AFETACION : QUE CS ALAJA MILY ETHIMABLE DC LA PRUDENCIA, QUE LA PLUMA POR 0 MAS REMONTADA GO- UICTHE CUS BUELOS AL PEFO DE LAS MATERIAS. UANTOS CO- NOCCEN AL AUTOR,LE BAN OYPO FACEQUENTEMERE EN 109 PUL- DITOS, Y LE BAN VENERADO CON EL PRIMER CREDITO CN CFTE EXERCICIO,CON GUE TABLEN 1 LINEA,A QUE ILEGA FU ELOGUEN- CIA,NUMCA INFERIOR ALA DE TULIO,Y DEMOTHENES.LA VILI- LIDAD DEL LIBRO TE CONOCE DEL KN,QUE POR EL TE PRETENCE. SU ENTERNZA CS LA IDEA DE VIN PRINCIPE PERFETO, Y GEN- OD EFFE O ALMA > 0- CABEZA DEL CUERPO DE LA REPUBLICAS BIEN TE DEJA ENTENDER,QUAN BENIGNAS INFUECIAS CAUFARA FU'VIRUD CN LAS COFTUMBERS DE BUS VARALLOS 1 Y QUANTQ MEJOR OBRARAN EFTOSADUERTIDOS DE FU EXEMPLO.COM QUE. BALLARAN EN ERTA OBRA LOS PRINCIPES, QUE APRENDER, Y 2 LOS. VAFALLOS,QUEIMITARY TODOS MADTA ENTERNZA CHRIFILA - NA,Y POLITICA CONDUCE,PARA 656 SOUERNAR, Y OBEDECER. ARDUA EMPREFA ES,AMIMAR LOS OJOS A- ESFERA TAN SUPERIOR, COMO LA DE VD MONARCA, CD QUE FUELC EL TEL DE LA GRAN- DEZA DEJAR DEFWAYADA IA MAS PERTPICAZ VITA : PERO CO- INO LE IDEA PERFECTO EL AUTOR, FON MAS FERENAS, QUE RIGU- ROFAS CUS LUCES. EXIFIMARE QUIDEM DE PRINCIPE , NETMISSION CASHIER 14 FAS ED : NAM G IN VEFTIBULO TWO INGHITCHETEM REPELLIT OBJECTA WENERATIO ; 8 JE QTY MECHITERN PROPIAS ADEGERUNT > QUOD. OCULIS IN SOLEM JE CONTENDENTIBUS CUENIT > PREPRIZEA ACTE > VIDENAS FACELLATE CATULTWT. VERUMS JE PERFEETUS IT INTMENTCM *** INIGMAS FULGOR REFUNDIT 1 JED JERENUSA LUMERA INVITAL. NO. REFMAYO EFFE PELIGRO CL ANIMODEL AUTOR, PARA DEJAR PG. PROLEQUIR ERTA OBRA, CN QUE YO BALLO CD GRANDECIDA 12. RELIGION : EMERADA LA POLITICASIA CORTEFANIA ILUFFADA 1 LAS COFTUMBERS CORREGIDAS > LA ERUDICION AFI SAGRADA, CO- NO HILTORICA, Y POETICA, PRIMOROLA ; Y CAN FELECTAMEN- TC TODO > QUE PUEDO BEZIR DE FU LITERATURA, LO QUE DPT .0 GRANDE BAILIO DIJO NAZIANZENO : 9400 LASCRIPLIMA JEGMAS. MOM CALLUIT ? IMO QUOD TION CA EXCELLENTIA, TAMQUARE IPF USS. AMIMMM ADICERIT : SIC GNIDEM OMPLES COMPREBENdit,UT SULA NWL- LUS UMAM. : SIC AD. JUMMMMM EMGLAS 7 WT ALIAS MILOS OWNLING. \n"
          ]
        }
      ],
      "source": [
        "def process_text_regions(image, data):\n",
        "    extracted_text = \"\"\n",
        "\n",
        "    for i in range(len(data['text'])):\n",
        "        text = data['text'][i].strip()\n",
        "        if text:\n",
        "            x, y, w, h = data['left'][i], data['top'][i], data['width'][i], data['height'][i]\n",
        "            cropped_region = image[y:y+h, x:x+w]\n",
        "            pil_img = Image.fromarray(cropped_region).convert(\"RGB\")\n",
        "\n",
        "            pixel_values = processor(pil_img, return_tensors=\"pt\").pixel_values\n",
        "            generated_ids = model.generate(pixel_values)\n",
        "            decoded_text = processor.batch_decode(generated_ids, skip_special_tokens=True)[0]\n",
        "\n",
        "            extracted_text += decoded_text + \" \"\n",
        "\n",
        "    return extracted_text\n",
        "\n",
        "final_text = process_text_regions(gray, data)\n",
        "print(\"Extracted Text:\")\n",
        "print(final_text)"
      ]
    },
    {
      "cell_type": "code",
      "execution_count": null,
      "metadata": {
        "id": "tO42Sx1Wdcdu"
      },
      "outputs": [],
      "source": [
        "def normalize_text(text):\n",
        "    \"\"\"Apply historical OCR normalization rules\"\"\"\n",
        "    text = text.replace(\"ſ\", \"s\") \n",
        "    text = text.replace(\"ç\", \"z\")\n",
        "    text = text.replace(\"q̄\", \"que\")  \n",
        "    text = text.replace(\"u\", \"v\") if \"v\" in text else text.replace(\"v\", \"u\")  \n",
        "    text = text.translate(str.maketrans(\"áéíóú\", \"aeiou\"))  \n",
        "    return text"
      ]
    },
    {
      "cell_type": "code",
      "execution_count": null,
      "metadata": {
        "id": "I0DuyAhNg4Uv"
      },
      "outputs": [],
      "source": [
        "transcript_path = \"OCR/test_file/processed_images/Buendia-page_4.jpg\"\n",
        "with open(transcript_path, \"r\", encoding=\"utf-8\") as f:\n",
        "    ground_truth_text = f.read().strip()\n",
        "\n",
        "ground_truth_text=normalize_text(ground_truth_text)"
      ]
    },
    {
      "cell_type": "code",
      "execution_count": 31,
      "metadata": {
        "colab": {
          "base_uri": "https://localhost:8080/"
        },
        "id": "LRS_R-sKoih5",
        "outputId": "60ac3582-fb2f-4f1a-f98f-14f8cdf73471"
      },
      "outputs": [
        {
          "name": "stdout",
          "output_type": "stream",
          "text": [
            "\n",
            "Ground Truth Transcript:\n",
            " eriedad del asvmpto, vsavdole grave, y ponderoso, sin qve\n",
            "le encvmbre la afectacion; Qve es alaja mvy estimable\n",
            "de la prvdencia, qve la plvma por si mas remontada qo-\n",
            "vierne svs bvelos al peso de las materias. Qvantos co-\n",
            "nocen al Avtor, le han oydo freqventemente en los pvl-\n",
            "pitos, y le han venerado con el primer credito en este\n",
            "exercicio, con qve saben la linea, a qve llega sv eloqven-\n",
            "cia, nvnca inferior a la de Tvllio, y Demosthenes. La vti-\n",
            "lidad del libre se conoce del fin, qve por el se pretende.\n",
            "Sv enseñanza es la Idea de vn Principe Perfecto, y siend-\n",
            "do este o alma, o cabeza del cverpo de la Repvblica,\n",
            "bien se deja entender, qvan benignas inflvencias cavsara\n",
            "sv virtvd en las costvmbres de svs Vasallos, y qvanto\n",
            "mejor obraran estos advertidos de sv exemplo. Con qve\n",
            "hallaran en esta obra los Principes, qve aprender, y los\n",
            "Vasallos, qve imitar, y todos qvanta enseñanza Christia-\n",
            "na, y Politica condvce, para saber governar, y obedecer.\n",
            "Ardva empresa es, animar los ojos a esfera tan Svperior,\n",
            "como la de vn Monarca, en qve svele el sol de la gran-\n",
            "deza dejar desmayada la mas perspicaz vista; pero co-\n",
            "mo le idea perfecto el Avtor, son mas serenas, qve rigv-\n",
            "rosas svs lvces. Existimare qvidem de Principe, nemini\n",
            "fas est, nam & in vestibvlo svo inqvirentem repellit objecta\n",
            "verneratio; & si qvi mentem propivs adegervnt, qvod ocvlis\n",
            "in Solem se contendentibvs evenit, prestricta acie, videndi\n",
            "facvltate carvervnt. Vervm si perfectvs sit intventem non\n",
            "iniqvvs fvlgor recvndit, sed serenvm lvmen invitat. No\n",
            "desmayo este peligro el animo del Avtor, para dejar de\n",
            "prosegvir esta Obra, en qve yo hallo en grandecida la\n",
            "Religion; esmerada la Politica; la Cortesania ilvstrada;\n",
            "las costvmbres corregidas; la ervdicion asi Sagrada, co-\n",
            "mo Historica, y Poëtica, primorosa; y tan selectamen-\n",
            "te todo, qve pvedo dezir de sv literatvra, lo qve del\n",
            "grande Basilio dijo Nazianzeno; Qvod disciplina genvs\n",
            "non callvit? imo qvod non ea excellentia, tanqvam ipsi vni-\n",
            "animvm adiecerit? Sic qvidem omnes comprehendit, vt nvl-\n",
            "lvs vnam; Sic ad Svmmvm Singvlas, vt mihi omvino\n"
          ]
        }
      ],
      "source": [
        "print(\"\\nGround Truth Transcript:\\n\", ground_truth_text)"
      ]
    },
    {
      "cell_type": "code",
      "execution_count": null,
      "metadata": {
        "colab": {
          "base_uri": "https://localhost:8080/"
        },
        "id": "pWhqYnWxtN50",
        "outputId": "5fb5a691-c034-455e-a617-2a4dcfc5fe4f"
      },
      "outputs": [],
      "source": [
        "!pip install spacy\n",
        "!python -m spacy download es_core_news_sm\n"
      ]
    },
    {
      "cell_type": "code",
      "execution_count": null,
      "metadata": {
        "colab": {
          "base_uri": "https://localhost:8080/"
        },
        "id": "GnF6Uufuolgp",
        "outputId": "d252428c-52d3-415f-e10a-4851bb66a61e"
      },
      "outputs": [
        {
          "name": "stdout",
          "output_type": "stream",
          "text": [
            "Riedad del afumpto,viaudole graue,y onderofo,fin uc ie encumbre la afetacion : que cs alaja mily ethimable dc la prudencia, que la pluma por 0 mas remontada go- uicthe cus buelos al pefo de las materias. Uantos co- noccen al autor,le ban oypo facequentemere en 109 pul- ditos, y le ban venerado con el primer credito cn cfte exercicio,con gue tablen 1 linea,a que ilega fu eloguen- cia,numca inferior ala de tulio,y demothenes.la vili- lidad del libro te conoce del kn,que por el te pretence. Su enternza cs la idea de vin principe perfeto, y gen- od effe o alma > 0- cabeza del cuerpo de la republicas bien te deja entender,quan benignas infuecias caufara fu'virud cn las coftumbers de bus varallos 1 y quantq mejor obraran eftosaduertidos de fu exemplo.com que. Ballaran en erta obra los principes, que aprender, y 2 los. Vafallos,queimitary todos madta enternza chrifila - na,y politica conduce,para 656 souernar, y obedecer. Ardua emprefa es,amimar los ojos a- esfera tan superior, como la de vd monarca, cd que fuelc el tel de la gran- deza dejar defwayada ia mas pertpicaz vita : pero co- ino le idea perfecto el autor, fon mas ferenas, que rigu- rofas cus luces. Exifimare quidem de principe , netmission cashier 14 fas ed : nam g in veftibulo two inghitchetem repellit objecta weneratio ; 8 je qty mechitern propias adegerunt > quod. Oculis in solem je contendentibus cuenit > preprizea acte > videnas facellate catultwt. Verums je perfeetus it intmentcm *** inigmas fulgor refundit 1 jed jerenusa lumera invital. No. Refmayo effe peligro cl animodel autor, para dejar pg. Prolequir erta obra, cn que yo ballo cd grandecida 12. Religion : emerada la politicasia cortefania iluffada 1 las coftumbers corregidas > la erudicion afi sagrada, co- no hiltorica, y poetica, primorola ; y can felectamen- tc todo > que puedo bezir de fu literatura, lo que dpt .0 grande bailio dijo nazianzeno : 9400 lascriplima jegmas. Mom calluit ? imo quod tion ca excellentia, tamquare ipf uss. Amimmm adicerit : sic gnidem omples comprebendit,ut sula nwl- lus umam. : sic ad. Jummmmm emglas 7 wt alias milos ownling.\n"
          ]
        }
      ],
      "source": [
        "import re\n",
        "import spacy\n",
        "\n",
        "nlp = spacy.load(\"es_core_news_sm\")\n",
        "\n",
        "def correct_case(text):\n",
        "    text = text.lower()\n",
        "\n",
        "    doc = nlp(text)\n",
        "\n",
        "    corrected_text = \" \".join(\n",
        "        [sent.text.capitalize() for sent in doc.sents]\n",
        "    )\n",
        "\n",
        "    return corrected_text\n",
        "extracted_text = final_text\n",
        "clean_text = correct_case(extracted_text)\n",
        "print(clean_text)\n"
      ]
    }
  ],
  "metadata": {
    "colab": {
      "provenance": []
    },
    "kernelspec": {
      "display_name": "PyTorch2024",
      "language": "python",
      "name": "python3"
    },
    "language_info": {
      "name": "python",
      "version": "3.12.7"
    },
    "widgets": {
      "application/vnd.jupyter.widget-state+json": {
        "009b5d32e18c4276b46cfc8fca20a068": {
          "model_module": "@jupyter-widgets/controls",
          "model_module_version": "1.5.0",
          "model_name": "FloatProgressModel",
          "state": {
            "_dom_classes": [],
            "_model_module": "@jupyter-widgets/controls",
            "_model_module_version": "1.5.0",
            "_model_name": "FloatProgressModel",
            "_view_count": null,
            "_view_module": "@jupyter-widgets/controls",
            "_view_module_version": "1.5.0",
            "_view_name": "ProgressView",
            "bar_style": "success",
            "description": "",
            "description_tooltip": null,
            "layout": "IPY_MODEL_098f9a60923a4e448b0d5b11bd7149db",
            "max": 190,
            "min": 0,
            "orientation": "horizontal",
            "style": "IPY_MODEL_65afefdddbe24d8097768b1fadb1ae02",
            "value": 190
          }
        },
        "011f6d5b577f42dda34d5c1274a7bcfc": {
          "model_module": "@jupyter-widgets/controls",
          "model_module_version": "1.5.0",
          "model_name": "HTMLModel",
          "state": {
            "_dom_classes": [],
            "_model_module": "@jupyter-widgets/controls",
            "_model_module_version": "1.5.0",
            "_model_name": "HTMLModel",
            "_view_count": null,
            "_view_module": "@jupyter-widgets/controls",
            "_view_module_version": "1.5.0",
            "_view_name": "HTMLView",
            "description": "",
            "description_tooltip": null,
            "layout": "IPY_MODEL_5cc74f6222564abba60f6da6e2d3a688",
            "placeholder": "​",
            "style": "IPY_MODEL_f374d4dbd1f040649d2b0e7b36e6bd26",
            "value": " 1.33G/1.33G [00:15&lt;00:00, 83.5MB/s]"
          }
        },
        "0515a00026804dd6bef311bf360fe541": {
          "model_module": "@jupyter-widgets/base",
          "model_module_version": "1.2.0",
          "model_name": "LayoutModel",
          "state": {
            "_model_module": "@jupyter-widgets/base",
            "_model_module_version": "1.2.0",
            "_model_name": "LayoutModel",
            "_view_count": null,
            "_view_module": "@jupyter-widgets/base",
            "_view_module_version": "1.2.0",
            "_view_name": "LayoutView",
            "align_content": null,
            "align_items": null,
            "align_self": null,
            "border": null,
            "bottom": null,
            "display": null,
            "flex": null,
            "flex_flow": null,
            "grid_area": null,
            "grid_auto_columns": null,
            "grid_auto_flow": null,
            "grid_auto_rows": null,
            "grid_column": null,
            "grid_gap": null,
            "grid_row": null,
            "grid_template_areas": null,
            "grid_template_columns": null,
            "grid_template_rows": null,
            "height": null,
            "justify_content": null,
            "justify_items": null,
            "left": null,
            "margin": null,
            "max_height": null,
            "max_width": null,
            "min_height": null,
            "min_width": null,
            "object_fit": null,
            "object_position": null,
            "order": null,
            "overflow": null,
            "overflow_x": null,
            "overflow_y": null,
            "padding": null,
            "right": null,
            "top": null,
            "visibility": null,
            "width": null
          }
        },
        "07f35560e89a481c81bbecdefd40be7a": {
          "model_module": "@jupyter-widgets/controls",
          "model_module_version": "1.5.0",
          "model_name": "HTMLModel",
          "state": {
            "_dom_classes": [],
            "_model_module": "@jupyter-widgets/controls",
            "_model_module_version": "1.5.0",
            "_model_name": "HTMLModel",
            "_view_count": null,
            "_view_module": "@jupyter-widgets/controls",
            "_view_module_version": "1.5.0",
            "_view_name": "HTMLView",
            "description": "",
            "description_tooltip": null,
            "layout": "IPY_MODEL_7c5a45c3a7a34377b362664968b07cb7",
            "placeholder": "​",
            "style": "IPY_MODEL_e95502beaf8a4f2d90fd04e69463b679",
            "value": "config.json: 100%"
          }
        },
        "098f9a60923a4e448b0d5b11bd7149db": {
          "model_module": "@jupyter-widgets/base",
          "model_module_version": "1.2.0",
          "model_name": "LayoutModel",
          "state": {
            "_model_module": "@jupyter-widgets/base",
            "_model_module_version": "1.2.0",
            "_model_name": "LayoutModel",
            "_view_count": null,
            "_view_module": "@jupyter-widgets/base",
            "_view_module_version": "1.2.0",
            "_view_name": "LayoutView",
            "align_content": null,
            "align_items": null,
            "align_self": null,
            "border": null,
            "bottom": null,
            "display": null,
            "flex": null,
            "flex_flow": null,
            "grid_area": null,
            "grid_auto_columns": null,
            "grid_auto_flow": null,
            "grid_auto_rows": null,
            "grid_column": null,
            "grid_gap": null,
            "grid_row": null,
            "grid_template_areas": null,
            "grid_template_columns": null,
            "grid_template_rows": null,
            "height": null,
            "justify_content": null,
            "justify_items": null,
            "left": null,
            "margin": null,
            "max_height": null,
            "max_width": null,
            "min_height": null,
            "min_width": null,
            "object_fit": null,
            "object_position": null,
            "order": null,
            "overflow": null,
            "overflow_x": null,
            "overflow_y": null,
            "padding": null,
            "right": null,
            "top": null,
            "visibility": null,
            "width": null
          }
        },
        "0f91a02dabae4f3993a97afef680658d": {
          "model_module": "@jupyter-widgets/controls",
          "model_module_version": "1.5.0",
          "model_name": "DescriptionStyleModel",
          "state": {
            "_model_module": "@jupyter-widgets/controls",
            "_model_module_version": "1.5.0",
            "_model_name": "DescriptionStyleModel",
            "_view_count": null,
            "_view_module": "@jupyter-widgets/base",
            "_view_module_version": "1.2.0",
            "_view_name": "StyleView",
            "description_width": ""
          }
        },
        "1581e3f64f914bfcb6e3e8d74f43b16d": {
          "model_module": "@jupyter-widgets/base",
          "model_module_version": "1.2.0",
          "model_name": "LayoutModel",
          "state": {
            "_model_module": "@jupyter-widgets/base",
            "_model_module_version": "1.2.0",
            "_model_name": "LayoutModel",
            "_view_count": null,
            "_view_module": "@jupyter-widgets/base",
            "_view_module_version": "1.2.0",
            "_view_name": "LayoutView",
            "align_content": null,
            "align_items": null,
            "align_self": null,
            "border": null,
            "bottom": null,
            "display": null,
            "flex": null,
            "flex_flow": null,
            "grid_area": null,
            "grid_auto_columns": null,
            "grid_auto_flow": null,
            "grid_auto_rows": null,
            "grid_column": null,
            "grid_gap": null,
            "grid_row": null,
            "grid_template_areas": null,
            "grid_template_columns": null,
            "grid_template_rows": null,
            "height": null,
            "justify_content": null,
            "justify_items": null,
            "left": null,
            "margin": null,
            "max_height": null,
            "max_width": null,
            "min_height": null,
            "min_width": null,
            "object_fit": null,
            "object_position": null,
            "order": null,
            "overflow": null,
            "overflow_x": null,
            "overflow_y": null,
            "padding": null,
            "right": null,
            "top": null,
            "visibility": null,
            "width": null
          }
        },
        "18b37e121d40419eb2b752e9d74f5bbe": {
          "model_module": "@jupyter-widgets/base",
          "model_module_version": "1.2.0",
          "model_name": "LayoutModel",
          "state": {
            "_model_module": "@jupyter-widgets/base",
            "_model_module_version": "1.2.0",
            "_model_name": "LayoutModel",
            "_view_count": null,
            "_view_module": "@jupyter-widgets/base",
            "_view_module_version": "1.2.0",
            "_view_name": "LayoutView",
            "align_content": null,
            "align_items": null,
            "align_self": null,
            "border": null,
            "bottom": null,
            "display": null,
            "flex": null,
            "flex_flow": null,
            "grid_area": null,
            "grid_auto_columns": null,
            "grid_auto_flow": null,
            "grid_auto_rows": null,
            "grid_column": null,
            "grid_gap": null,
            "grid_row": null,
            "grid_template_areas": null,
            "grid_template_columns": null,
            "grid_template_rows": null,
            "height": null,
            "justify_content": null,
            "justify_items": null,
            "left": null,
            "margin": null,
            "max_height": null,
            "max_width": null,
            "min_height": null,
            "min_width": null,
            "object_fit": null,
            "object_position": null,
            "order": null,
            "overflow": null,
            "overflow_x": null,
            "overflow_y": null,
            "padding": null,
            "right": null,
            "top": null,
            "visibility": null,
            "width": null
          }
        },
        "1caa6e3bf17e49a4b17f4b9b3379e5c0": {
          "model_module": "@jupyter-widgets/base",
          "model_module_version": "1.2.0",
          "model_name": "LayoutModel",
          "state": {
            "_model_module": "@jupyter-widgets/base",
            "_model_module_version": "1.2.0",
            "_model_name": "LayoutModel",
            "_view_count": null,
            "_view_module": "@jupyter-widgets/base",
            "_view_module_version": "1.2.0",
            "_view_name": "LayoutView",
            "align_content": null,
            "align_items": null,
            "align_self": null,
            "border": null,
            "bottom": null,
            "display": null,
            "flex": null,
            "flex_flow": null,
            "grid_area": null,
            "grid_auto_columns": null,
            "grid_auto_flow": null,
            "grid_auto_rows": null,
            "grid_column": null,
            "grid_gap": null,
            "grid_row": null,
            "grid_template_areas": null,
            "grid_template_columns": null,
            "grid_template_rows": null,
            "height": null,
            "justify_content": null,
            "justify_items": null,
            "left": null,
            "margin": null,
            "max_height": null,
            "max_width": null,
            "min_height": null,
            "min_width": null,
            "object_fit": null,
            "object_position": null,
            "order": null,
            "overflow": null,
            "overflow_x": null,
            "overflow_y": null,
            "padding": null,
            "right": null,
            "top": null,
            "visibility": null,
            "width": null
          }
        },
        "2c7a1ec6c45b45a49421b72a74df1d7d": {
          "model_module": "@jupyter-widgets/controls",
          "model_module_version": "1.5.0",
          "model_name": "HBoxModel",
          "state": {
            "_dom_classes": [],
            "_model_module": "@jupyter-widgets/controls",
            "_model_module_version": "1.5.0",
            "_model_name": "HBoxModel",
            "_view_count": null,
            "_view_module": "@jupyter-widgets/controls",
            "_view_module_version": "1.5.0",
            "_view_name": "HBoxView",
            "box_style": "",
            "children": [
              "IPY_MODEL_f39226261dea4a29afd516827a983285",
              "IPY_MODEL_4514c0a640134d04bc43a5aec890811f",
              "IPY_MODEL_011f6d5b577f42dda34d5c1274a7bcfc"
            ],
            "layout": "IPY_MODEL_a3f8963778fb4f168290f6927de628a5"
          }
        },
        "3139517ef6214c09af766761f4f893d5": {
          "model_module": "@jupyter-widgets/controls",
          "model_module_version": "1.5.0",
          "model_name": "HBoxModel",
          "state": {
            "_dom_classes": [],
            "_model_module": "@jupyter-widgets/controls",
            "_model_module_version": "1.5.0",
            "_model_name": "HBoxModel",
            "_view_count": null,
            "_view_module": "@jupyter-widgets/controls",
            "_view_module_version": "1.5.0",
            "_view_name": "HBoxView",
            "box_style": "",
            "children": [
              "IPY_MODEL_5e9bdc65bbb04e5ab114d323185648cf",
              "IPY_MODEL_009b5d32e18c4276b46cfc8fca20a068",
              "IPY_MODEL_889665c71f7a4d67aa0ddc117c9de2f9"
            ],
            "layout": "IPY_MODEL_60f4c4d0109d429b9a6d35733c5e6aad"
          }
        },
        "31a93f47d13a4b2f9cabf8dba4450fdd": {
          "model_module": "@jupyter-widgets/controls",
          "model_module_version": "1.5.0",
          "model_name": "FloatProgressModel",
          "state": {
            "_dom_classes": [],
            "_model_module": "@jupyter-widgets/controls",
            "_model_module_version": "1.5.0",
            "_model_name": "FloatProgressModel",
            "_view_count": null,
            "_view_module": "@jupyter-widgets/controls",
            "_view_module_version": "1.5.0",
            "_view_name": "ProgressView",
            "bar_style": "success",
            "description": "",
            "description_tooltip": null,
            "layout": "IPY_MODEL_520fdd9a3e524289bd06e1132071574d",
            "max": 4126,
            "min": 0,
            "orientation": "horizontal",
            "style": "IPY_MODEL_f0cacec389034f519ff3e821dcb94b81",
            "value": 4126
          }
        },
        "42b58c484c50474e9ad09073bb7aa0e7": {
          "model_module": "@jupyter-widgets/base",
          "model_module_version": "1.2.0",
          "model_name": "LayoutModel",
          "state": {
            "_model_module": "@jupyter-widgets/base",
            "_model_module_version": "1.2.0",
            "_model_name": "LayoutModel",
            "_view_count": null,
            "_view_module": "@jupyter-widgets/base",
            "_view_module_version": "1.2.0",
            "_view_name": "LayoutView",
            "align_content": null,
            "align_items": null,
            "align_self": null,
            "border": null,
            "bottom": null,
            "display": null,
            "flex": null,
            "flex_flow": null,
            "grid_area": null,
            "grid_auto_columns": null,
            "grid_auto_flow": null,
            "grid_auto_rows": null,
            "grid_column": null,
            "grid_gap": null,
            "grid_row": null,
            "grid_template_areas": null,
            "grid_template_columns": null,
            "grid_template_rows": null,
            "height": null,
            "justify_content": null,
            "justify_items": null,
            "left": null,
            "margin": null,
            "max_height": null,
            "max_width": null,
            "min_height": null,
            "min_width": null,
            "object_fit": null,
            "object_position": null,
            "order": null,
            "overflow": null,
            "overflow_x": null,
            "overflow_y": null,
            "padding": null,
            "right": null,
            "top": null,
            "visibility": null,
            "width": null
          }
        },
        "4514c0a640134d04bc43a5aec890811f": {
          "model_module": "@jupyter-widgets/controls",
          "model_module_version": "1.5.0",
          "model_name": "FloatProgressModel",
          "state": {
            "_dom_classes": [],
            "_model_module": "@jupyter-widgets/controls",
            "_model_module_version": "1.5.0",
            "_model_name": "FloatProgressModel",
            "_view_count": null,
            "_view_module": "@jupyter-widgets/controls",
            "_view_module_version": "1.5.0",
            "_view_name": "ProgressView",
            "bar_style": "success",
            "description": "",
            "description_tooltip": null,
            "layout": "IPY_MODEL_1581e3f64f914bfcb6e3e8d74f43b16d",
            "max": 1333384464,
            "min": 0,
            "orientation": "horizontal",
            "style": "IPY_MODEL_a220f636cc884c5c866f5f6d029305c7",
            "value": 1333384464
          }
        },
        "494e73d0d99041239bbb959608c5712d": {
          "model_module": "@jupyter-widgets/controls",
          "model_module_version": "1.5.0",
          "model_name": "DescriptionStyleModel",
          "state": {
            "_model_module": "@jupyter-widgets/controls",
            "_model_module_version": "1.5.0",
            "_model_name": "DescriptionStyleModel",
            "_view_count": null,
            "_view_module": "@jupyter-widgets/base",
            "_view_module_version": "1.2.0",
            "_view_name": "StyleView",
            "description_width": ""
          }
        },
        "49c83c7a13d0491c8beb7e120b608d35": {
          "model_module": "@jupyter-widgets/base",
          "model_module_version": "1.2.0",
          "model_name": "LayoutModel",
          "state": {
            "_model_module": "@jupyter-widgets/base",
            "_model_module_version": "1.2.0",
            "_model_name": "LayoutModel",
            "_view_count": null,
            "_view_module": "@jupyter-widgets/base",
            "_view_module_version": "1.2.0",
            "_view_name": "LayoutView",
            "align_content": null,
            "align_items": null,
            "align_self": null,
            "border": null,
            "bottom": null,
            "display": null,
            "flex": null,
            "flex_flow": null,
            "grid_area": null,
            "grid_auto_columns": null,
            "grid_auto_flow": null,
            "grid_auto_rows": null,
            "grid_column": null,
            "grid_gap": null,
            "grid_row": null,
            "grid_template_areas": null,
            "grid_template_columns": null,
            "grid_template_rows": null,
            "height": null,
            "justify_content": null,
            "justify_items": null,
            "left": null,
            "margin": null,
            "max_height": null,
            "max_width": null,
            "min_height": null,
            "min_width": null,
            "object_fit": null,
            "object_position": null,
            "order": null,
            "overflow": null,
            "overflow_x": null,
            "overflow_y": null,
            "padding": null,
            "right": null,
            "top": null,
            "visibility": null,
            "width": null
          }
        },
        "4f5aedcbcad64c27ae7720448cd4c1d8": {
          "model_module": "@jupyter-widgets/base",
          "model_module_version": "1.2.0",
          "model_name": "LayoutModel",
          "state": {
            "_model_module": "@jupyter-widgets/base",
            "_model_module_version": "1.2.0",
            "_model_name": "LayoutModel",
            "_view_count": null,
            "_view_module": "@jupyter-widgets/base",
            "_view_module_version": "1.2.0",
            "_view_name": "LayoutView",
            "align_content": null,
            "align_items": null,
            "align_self": null,
            "border": null,
            "bottom": null,
            "display": null,
            "flex": null,
            "flex_flow": null,
            "grid_area": null,
            "grid_auto_columns": null,
            "grid_auto_flow": null,
            "grid_auto_rows": null,
            "grid_column": null,
            "grid_gap": null,
            "grid_row": null,
            "grid_template_areas": null,
            "grid_template_columns": null,
            "grid_template_rows": null,
            "height": null,
            "justify_content": null,
            "justify_items": null,
            "left": null,
            "margin": null,
            "max_height": null,
            "max_width": null,
            "min_height": null,
            "min_width": null,
            "object_fit": null,
            "object_position": null,
            "order": null,
            "overflow": null,
            "overflow_x": null,
            "overflow_y": null,
            "padding": null,
            "right": null,
            "top": null,
            "visibility": null,
            "width": null
          }
        },
        "520fdd9a3e524289bd06e1132071574d": {
          "model_module": "@jupyter-widgets/base",
          "model_module_version": "1.2.0",
          "model_name": "LayoutModel",
          "state": {
            "_model_module": "@jupyter-widgets/base",
            "_model_module_version": "1.2.0",
            "_model_name": "LayoutModel",
            "_view_count": null,
            "_view_module": "@jupyter-widgets/base",
            "_view_module_version": "1.2.0",
            "_view_name": "LayoutView",
            "align_content": null,
            "align_items": null,
            "align_self": null,
            "border": null,
            "bottom": null,
            "display": null,
            "flex": null,
            "flex_flow": null,
            "grid_area": null,
            "grid_auto_columns": null,
            "grid_auto_flow": null,
            "grid_auto_rows": null,
            "grid_column": null,
            "grid_gap": null,
            "grid_row": null,
            "grid_template_areas": null,
            "grid_template_columns": null,
            "grid_template_rows": null,
            "height": null,
            "justify_content": null,
            "justify_items": null,
            "left": null,
            "margin": null,
            "max_height": null,
            "max_width": null,
            "min_height": null,
            "min_width": null,
            "object_fit": null,
            "object_position": null,
            "order": null,
            "overflow": null,
            "overflow_x": null,
            "overflow_y": null,
            "padding": null,
            "right": null,
            "top": null,
            "visibility": null,
            "width": null
          }
        },
        "5cc74f6222564abba60f6da6e2d3a688": {
          "model_module": "@jupyter-widgets/base",
          "model_module_version": "1.2.0",
          "model_name": "LayoutModel",
          "state": {
            "_model_module": "@jupyter-widgets/base",
            "_model_module_version": "1.2.0",
            "_model_name": "LayoutModel",
            "_view_count": null,
            "_view_module": "@jupyter-widgets/base",
            "_view_module_version": "1.2.0",
            "_view_name": "LayoutView",
            "align_content": null,
            "align_items": null,
            "align_self": null,
            "border": null,
            "bottom": null,
            "display": null,
            "flex": null,
            "flex_flow": null,
            "grid_area": null,
            "grid_auto_columns": null,
            "grid_auto_flow": null,
            "grid_auto_rows": null,
            "grid_column": null,
            "grid_gap": null,
            "grid_row": null,
            "grid_template_areas": null,
            "grid_template_columns": null,
            "grid_template_rows": null,
            "height": null,
            "justify_content": null,
            "justify_items": null,
            "left": null,
            "margin": null,
            "max_height": null,
            "max_width": null,
            "min_height": null,
            "min_width": null,
            "object_fit": null,
            "object_position": null,
            "order": null,
            "overflow": null,
            "overflow_x": null,
            "overflow_y": null,
            "padding": null,
            "right": null,
            "top": null,
            "visibility": null,
            "width": null
          }
        },
        "5e9bdc65bbb04e5ab114d323185648cf": {
          "model_module": "@jupyter-widgets/controls",
          "model_module_version": "1.5.0",
          "model_name": "HTMLModel",
          "state": {
            "_dom_classes": [],
            "_model_module": "@jupyter-widgets/controls",
            "_model_module_version": "1.5.0",
            "_model_name": "HTMLModel",
            "_view_count": null,
            "_view_module": "@jupyter-widgets/controls",
            "_view_module_version": "1.5.0",
            "_view_name": "HTMLView",
            "description": "",
            "description_tooltip": null,
            "layout": "IPY_MODEL_9a1cd6e053364cdd95536ad587b0d242",
            "placeholder": "​",
            "style": "IPY_MODEL_494e73d0d99041239bbb959608c5712d",
            "value": "generation_config.json: 100%"
          }
        },
        "6052be75829b40b9950bdbf071681225": {
          "model_module": "@jupyter-widgets/controls",
          "model_module_version": "1.5.0",
          "model_name": "HBoxModel",
          "state": {
            "_dom_classes": [],
            "_model_module": "@jupyter-widgets/controls",
            "_model_module_version": "1.5.0",
            "_model_name": "HBoxModel",
            "_view_count": null,
            "_view_module": "@jupyter-widgets/controls",
            "_view_module_version": "1.5.0",
            "_view_name": "HBoxView",
            "box_style": "",
            "children": [
              "IPY_MODEL_07f35560e89a481c81bbecdefd40be7a",
              "IPY_MODEL_31a93f47d13a4b2f9cabf8dba4450fdd",
              "IPY_MODEL_7ad76d99d99d43d084c2136af8bf1ab9"
            ],
            "layout": "IPY_MODEL_0515a00026804dd6bef311bf360fe541"
          }
        },
        "60f4c4d0109d429b9a6d35733c5e6aad": {
          "model_module": "@jupyter-widgets/base",
          "model_module_version": "1.2.0",
          "model_name": "LayoutModel",
          "state": {
            "_model_module": "@jupyter-widgets/base",
            "_model_module_version": "1.2.0",
            "_model_name": "LayoutModel",
            "_view_count": null,
            "_view_module": "@jupyter-widgets/base",
            "_view_module_version": "1.2.0",
            "_view_name": "LayoutView",
            "align_content": null,
            "align_items": null,
            "align_self": null,
            "border": null,
            "bottom": null,
            "display": null,
            "flex": null,
            "flex_flow": null,
            "grid_area": null,
            "grid_auto_columns": null,
            "grid_auto_flow": null,
            "grid_auto_rows": null,
            "grid_column": null,
            "grid_gap": null,
            "grid_row": null,
            "grid_template_areas": null,
            "grid_template_columns": null,
            "grid_template_rows": null,
            "height": null,
            "justify_content": null,
            "justify_items": null,
            "left": null,
            "margin": null,
            "max_height": null,
            "max_width": null,
            "min_height": null,
            "min_width": null,
            "object_fit": null,
            "object_position": null,
            "order": null,
            "overflow": null,
            "overflow_x": null,
            "overflow_y": null,
            "padding": null,
            "right": null,
            "top": null,
            "visibility": null,
            "width": null
          }
        },
        "65afefdddbe24d8097768b1fadb1ae02": {
          "model_module": "@jupyter-widgets/controls",
          "model_module_version": "1.5.0",
          "model_name": "ProgressStyleModel",
          "state": {
            "_model_module": "@jupyter-widgets/controls",
            "_model_module_version": "1.5.0",
            "_model_name": "ProgressStyleModel",
            "_view_count": null,
            "_view_module": "@jupyter-widgets/base",
            "_view_module_version": "1.2.0",
            "_view_name": "StyleView",
            "bar_color": null,
            "description_width": ""
          }
        },
        "7a5dd300e2654bd7ab251fbc5677bda4": {
          "model_module": "@jupyter-widgets/controls",
          "model_module_version": "1.5.0",
          "model_name": "DescriptionStyleModel",
          "state": {
            "_model_module": "@jupyter-widgets/controls",
            "_model_module_version": "1.5.0",
            "_model_name": "DescriptionStyleModel",
            "_view_count": null,
            "_view_module": "@jupyter-widgets/base",
            "_view_module_version": "1.2.0",
            "_view_name": "StyleView",
            "description_width": ""
          }
        },
        "7ad76d99d99d43d084c2136af8bf1ab9": {
          "model_module": "@jupyter-widgets/controls",
          "model_module_version": "1.5.0",
          "model_name": "HTMLModel",
          "state": {
            "_dom_classes": [],
            "_model_module": "@jupyter-widgets/controls",
            "_model_module_version": "1.5.0",
            "_model_name": "HTMLModel",
            "_view_count": null,
            "_view_module": "@jupyter-widgets/controls",
            "_view_module_version": "1.5.0",
            "_view_name": "HTMLView",
            "description": "",
            "description_tooltip": null,
            "layout": "IPY_MODEL_84bbf5bc992541e695a7c8da89fb4063",
            "placeholder": "​",
            "style": "IPY_MODEL_e2ce72671f6f4bdf9ad09286c85c019c",
            "value": " 4.13k/4.13k [00:00&lt;00:00, 102kB/s]"
          }
        },
        "7c5a45c3a7a34377b362664968b07cb7": {
          "model_module": "@jupyter-widgets/base",
          "model_module_version": "1.2.0",
          "model_name": "LayoutModel",
          "state": {
            "_model_module": "@jupyter-widgets/base",
            "_model_module_version": "1.2.0",
            "_model_name": "LayoutModel",
            "_view_count": null,
            "_view_module": "@jupyter-widgets/base",
            "_view_module_version": "1.2.0",
            "_view_name": "LayoutView",
            "align_content": null,
            "align_items": null,
            "align_self": null,
            "border": null,
            "bottom": null,
            "display": null,
            "flex": null,
            "flex_flow": null,
            "grid_area": null,
            "grid_auto_columns": null,
            "grid_auto_flow": null,
            "grid_auto_rows": null,
            "grid_column": null,
            "grid_gap": null,
            "grid_row": null,
            "grid_template_areas": null,
            "grid_template_columns": null,
            "grid_template_rows": null,
            "height": null,
            "justify_content": null,
            "justify_items": null,
            "left": null,
            "margin": null,
            "max_height": null,
            "max_width": null,
            "min_height": null,
            "min_width": null,
            "object_fit": null,
            "object_position": null,
            "order": null,
            "overflow": null,
            "overflow_x": null,
            "overflow_y": null,
            "padding": null,
            "right": null,
            "top": null,
            "visibility": null,
            "width": null
          }
        },
        "84bbf5bc992541e695a7c8da89fb4063": {
          "model_module": "@jupyter-widgets/base",
          "model_module_version": "1.2.0",
          "model_name": "LayoutModel",
          "state": {
            "_model_module": "@jupyter-widgets/base",
            "_model_module_version": "1.2.0",
            "_model_name": "LayoutModel",
            "_view_count": null,
            "_view_module": "@jupyter-widgets/base",
            "_view_module_version": "1.2.0",
            "_view_name": "LayoutView",
            "align_content": null,
            "align_items": null,
            "align_self": null,
            "border": null,
            "bottom": null,
            "display": null,
            "flex": null,
            "flex_flow": null,
            "grid_area": null,
            "grid_auto_columns": null,
            "grid_auto_flow": null,
            "grid_auto_rows": null,
            "grid_column": null,
            "grid_gap": null,
            "grid_row": null,
            "grid_template_areas": null,
            "grid_template_columns": null,
            "grid_template_rows": null,
            "height": null,
            "justify_content": null,
            "justify_items": null,
            "left": null,
            "margin": null,
            "max_height": null,
            "max_width": null,
            "min_height": null,
            "min_width": null,
            "object_fit": null,
            "object_position": null,
            "order": null,
            "overflow": null,
            "overflow_x": null,
            "overflow_y": null,
            "padding": null,
            "right": null,
            "top": null,
            "visibility": null,
            "width": null
          }
        },
        "889665c71f7a4d67aa0ddc117c9de2f9": {
          "model_module": "@jupyter-widgets/controls",
          "model_module_version": "1.5.0",
          "model_name": "HTMLModel",
          "state": {
            "_dom_classes": [],
            "_model_module": "@jupyter-widgets/controls",
            "_model_module_version": "1.5.0",
            "_model_name": "HTMLModel",
            "_view_count": null,
            "_view_module": "@jupyter-widgets/controls",
            "_view_module_version": "1.5.0",
            "_view_name": "HTMLView",
            "description": "",
            "description_tooltip": null,
            "layout": "IPY_MODEL_4f5aedcbcad64c27ae7720448cd4c1d8",
            "placeholder": "​",
            "style": "IPY_MODEL_7a5dd300e2654bd7ab251fbc5677bda4",
            "value": " 190/190 [00:00&lt;00:00, 16.2kB/s]"
          }
        },
        "8e4e57583dd940608fd967fe909a0dbc": {
          "model_module": "@jupyter-widgets/controls",
          "model_module_version": "1.5.0",
          "model_name": "HTMLModel",
          "state": {
            "_dom_classes": [],
            "_model_module": "@jupyter-widgets/controls",
            "_model_module_version": "1.5.0",
            "_model_name": "HTMLModel",
            "_view_count": null,
            "_view_module": "@jupyter-widgets/controls",
            "_view_module_version": "1.5.0",
            "_view_name": "HTMLView",
            "description": "",
            "description_tooltip": null,
            "layout": "IPY_MODEL_49c83c7a13d0491c8beb7e120b608d35",
            "placeholder": "​",
            "style": "IPY_MODEL_f41d6d2db48847258bdc664c6dd6be28",
            "value": "merges.txt: 100%"
          }
        },
        "9a1cd6e053364cdd95536ad587b0d242": {
          "model_module": "@jupyter-widgets/base",
          "model_module_version": "1.2.0",
          "model_name": "LayoutModel",
          "state": {
            "_model_module": "@jupyter-widgets/base",
            "_model_module_version": "1.2.0",
            "_model_name": "LayoutModel",
            "_view_count": null,
            "_view_module": "@jupyter-widgets/base",
            "_view_module_version": "1.2.0",
            "_view_name": "LayoutView",
            "align_content": null,
            "align_items": null,
            "align_self": null,
            "border": null,
            "bottom": null,
            "display": null,
            "flex": null,
            "flex_flow": null,
            "grid_area": null,
            "grid_auto_columns": null,
            "grid_auto_flow": null,
            "grid_auto_rows": null,
            "grid_column": null,
            "grid_gap": null,
            "grid_row": null,
            "grid_template_areas": null,
            "grid_template_columns": null,
            "grid_template_rows": null,
            "height": null,
            "justify_content": null,
            "justify_items": null,
            "left": null,
            "margin": null,
            "max_height": null,
            "max_width": null,
            "min_height": null,
            "min_width": null,
            "object_fit": null,
            "object_position": null,
            "order": null,
            "overflow": null,
            "overflow_x": null,
            "overflow_y": null,
            "padding": null,
            "right": null,
            "top": null,
            "visibility": null,
            "width": null
          }
        },
        "a220f636cc884c5c866f5f6d029305c7": {
          "model_module": "@jupyter-widgets/controls",
          "model_module_version": "1.5.0",
          "model_name": "ProgressStyleModel",
          "state": {
            "_model_module": "@jupyter-widgets/controls",
            "_model_module_version": "1.5.0",
            "_model_name": "ProgressStyleModel",
            "_view_count": null,
            "_view_module": "@jupyter-widgets/base",
            "_view_module_version": "1.2.0",
            "_view_name": "StyleView",
            "bar_color": null,
            "description_width": ""
          }
        },
        "a3f8963778fb4f168290f6927de628a5": {
          "model_module": "@jupyter-widgets/base",
          "model_module_version": "1.2.0",
          "model_name": "LayoutModel",
          "state": {
            "_model_module": "@jupyter-widgets/base",
            "_model_module_version": "1.2.0",
            "_model_name": "LayoutModel",
            "_view_count": null,
            "_view_module": "@jupyter-widgets/base",
            "_view_module_version": "1.2.0",
            "_view_name": "LayoutView",
            "align_content": null,
            "align_items": null,
            "align_self": null,
            "border": null,
            "bottom": null,
            "display": null,
            "flex": null,
            "flex_flow": null,
            "grid_area": null,
            "grid_auto_columns": null,
            "grid_auto_flow": null,
            "grid_auto_rows": null,
            "grid_column": null,
            "grid_gap": null,
            "grid_row": null,
            "grid_template_areas": null,
            "grid_template_columns": null,
            "grid_template_rows": null,
            "height": null,
            "justify_content": null,
            "justify_items": null,
            "left": null,
            "margin": null,
            "max_height": null,
            "max_width": null,
            "min_height": null,
            "min_width": null,
            "object_fit": null,
            "object_position": null,
            "order": null,
            "overflow": null,
            "overflow_x": null,
            "overflow_y": null,
            "padding": null,
            "right": null,
            "top": null,
            "visibility": null,
            "width": null
          }
        },
        "ba909d3e81ab4b98966c25591c5be9ec": {
          "model_module": "@jupyter-widgets/controls",
          "model_module_version": "1.5.0",
          "model_name": "DescriptionStyleModel",
          "state": {
            "_model_module": "@jupyter-widgets/controls",
            "_model_module_version": "1.5.0",
            "_model_name": "DescriptionStyleModel",
            "_view_count": null,
            "_view_module": "@jupyter-widgets/base",
            "_view_module_version": "1.2.0",
            "_view_name": "StyleView",
            "description_width": ""
          }
        },
        "bca70daac9a045bb9b2361a82e248bbc": {
          "model_module": "@jupyter-widgets/base",
          "model_module_version": "1.2.0",
          "model_name": "LayoutModel",
          "state": {
            "_model_module": "@jupyter-widgets/base",
            "_model_module_version": "1.2.0",
            "_model_name": "LayoutModel",
            "_view_count": null,
            "_view_module": "@jupyter-widgets/base",
            "_view_module_version": "1.2.0",
            "_view_name": "LayoutView",
            "align_content": null,
            "align_items": null,
            "align_self": null,
            "border": null,
            "bottom": null,
            "display": null,
            "flex": null,
            "flex_flow": null,
            "grid_area": null,
            "grid_auto_columns": null,
            "grid_auto_flow": null,
            "grid_auto_rows": null,
            "grid_column": null,
            "grid_gap": null,
            "grid_row": null,
            "grid_template_areas": null,
            "grid_template_columns": null,
            "grid_template_rows": null,
            "height": null,
            "justify_content": null,
            "justify_items": null,
            "left": null,
            "margin": null,
            "max_height": null,
            "max_width": null,
            "min_height": null,
            "min_width": null,
            "object_fit": null,
            "object_position": null,
            "order": null,
            "overflow": null,
            "overflow_x": null,
            "overflow_y": null,
            "padding": null,
            "right": null,
            "top": null,
            "visibility": null,
            "width": null
          }
        },
        "c5ba60217189430ea19523c41441c35b": {
          "model_module": "@jupyter-widgets/controls",
          "model_module_version": "1.5.0",
          "model_name": "HBoxModel",
          "state": {
            "_dom_classes": [],
            "_model_module": "@jupyter-widgets/controls",
            "_model_module_version": "1.5.0",
            "_model_name": "HBoxModel",
            "_view_count": null,
            "_view_module": "@jupyter-widgets/controls",
            "_view_module_version": "1.5.0",
            "_view_name": "HBoxView",
            "box_style": "",
            "children": [
              "IPY_MODEL_8e4e57583dd940608fd967fe909a0dbc",
              "IPY_MODEL_ed9b80663cf745188fa7efdf83b6f590",
              "IPY_MODEL_cc47fc574aec43d38eb7a1880a8e6c45"
            ],
            "layout": "IPY_MODEL_1caa6e3bf17e49a4b17f4b9b3379e5c0"
          }
        },
        "cc47fc574aec43d38eb7a1880a8e6c45": {
          "model_module": "@jupyter-widgets/controls",
          "model_module_version": "1.5.0",
          "model_name": "HTMLModel",
          "state": {
            "_dom_classes": [],
            "_model_module": "@jupyter-widgets/controls",
            "_model_module_version": "1.5.0",
            "_model_name": "HTMLModel",
            "_view_count": null,
            "_view_module": "@jupyter-widgets/controls",
            "_view_module_version": "1.5.0",
            "_view_name": "HTMLView",
            "description": "",
            "description_tooltip": null,
            "layout": "IPY_MODEL_42b58c484c50474e9ad09073bb7aa0e7",
            "placeholder": "​",
            "style": "IPY_MODEL_0f91a02dabae4f3993a97afef680658d",
            "value": " 456k/456k [00:00&lt;00:00, 4.59MB/s]"
          }
        },
        "e2ce72671f6f4bdf9ad09286c85c019c": {
          "model_module": "@jupyter-widgets/controls",
          "model_module_version": "1.5.0",
          "model_name": "DescriptionStyleModel",
          "state": {
            "_model_module": "@jupyter-widgets/controls",
            "_model_module_version": "1.5.0",
            "_model_name": "DescriptionStyleModel",
            "_view_count": null,
            "_view_module": "@jupyter-widgets/base",
            "_view_module_version": "1.2.0",
            "_view_name": "StyleView",
            "description_width": ""
          }
        },
        "e95502beaf8a4f2d90fd04e69463b679": {
          "model_module": "@jupyter-widgets/controls",
          "model_module_version": "1.5.0",
          "model_name": "DescriptionStyleModel",
          "state": {
            "_model_module": "@jupyter-widgets/controls",
            "_model_module_version": "1.5.0",
            "_model_name": "DescriptionStyleModel",
            "_view_count": null,
            "_view_module": "@jupyter-widgets/base",
            "_view_module_version": "1.2.0",
            "_view_name": "StyleView",
            "description_width": ""
          }
        },
        "ed9b80663cf745188fa7efdf83b6f590": {
          "model_module": "@jupyter-widgets/controls",
          "model_module_version": "1.5.0",
          "model_name": "FloatProgressModel",
          "state": {
            "_dom_classes": [],
            "_model_module": "@jupyter-widgets/controls",
            "_model_module_version": "1.5.0",
            "_model_name": "FloatProgressModel",
            "_view_count": null,
            "_view_module": "@jupyter-widgets/controls",
            "_view_module_version": "1.5.0",
            "_view_name": "ProgressView",
            "bar_style": "success",
            "description": "",
            "description_tooltip": null,
            "layout": "IPY_MODEL_18b37e121d40419eb2b752e9d74f5bbe",
            "max": 456318,
            "min": 0,
            "orientation": "horizontal",
            "style": "IPY_MODEL_fdb830bd116442f0a9eda816657bdb3b",
            "value": 456318
          }
        },
        "f0cacec389034f519ff3e821dcb94b81": {
          "model_module": "@jupyter-widgets/controls",
          "model_module_version": "1.5.0",
          "model_name": "ProgressStyleModel",
          "state": {
            "_model_module": "@jupyter-widgets/controls",
            "_model_module_version": "1.5.0",
            "_model_name": "ProgressStyleModel",
            "_view_count": null,
            "_view_module": "@jupyter-widgets/base",
            "_view_module_version": "1.2.0",
            "_view_name": "StyleView",
            "bar_color": null,
            "description_width": ""
          }
        },
        "f374d4dbd1f040649d2b0e7b36e6bd26": {
          "model_module": "@jupyter-widgets/controls",
          "model_module_version": "1.5.0",
          "model_name": "DescriptionStyleModel",
          "state": {
            "_model_module": "@jupyter-widgets/controls",
            "_model_module_version": "1.5.0",
            "_model_name": "DescriptionStyleModel",
            "_view_count": null,
            "_view_module": "@jupyter-widgets/base",
            "_view_module_version": "1.2.0",
            "_view_name": "StyleView",
            "description_width": ""
          }
        },
        "f39226261dea4a29afd516827a983285": {
          "model_module": "@jupyter-widgets/controls",
          "model_module_version": "1.5.0",
          "model_name": "HTMLModel",
          "state": {
            "_dom_classes": [],
            "_model_module": "@jupyter-widgets/controls",
            "_model_module_version": "1.5.0",
            "_model_name": "HTMLModel",
            "_view_count": null,
            "_view_module": "@jupyter-widgets/controls",
            "_view_module_version": "1.5.0",
            "_view_name": "HTMLView",
            "description": "",
            "description_tooltip": null,
            "layout": "IPY_MODEL_bca70daac9a045bb9b2361a82e248bbc",
            "placeholder": "​",
            "style": "IPY_MODEL_ba909d3e81ab4b98966c25591c5be9ec",
            "value": "model.safetensors: 100%"
          }
        },
        "f41d6d2db48847258bdc664c6dd6be28": {
          "model_module": "@jupyter-widgets/controls",
          "model_module_version": "1.5.0",
          "model_name": "DescriptionStyleModel",
          "state": {
            "_model_module": "@jupyter-widgets/controls",
            "_model_module_version": "1.5.0",
            "_model_name": "DescriptionStyleModel",
            "_view_count": null,
            "_view_module": "@jupyter-widgets/base",
            "_view_module_version": "1.2.0",
            "_view_name": "StyleView",
            "description_width": ""
          }
        },
        "fdb830bd116442f0a9eda816657bdb3b": {
          "model_module": "@jupyter-widgets/controls",
          "model_module_version": "1.5.0",
          "model_name": "ProgressStyleModel",
          "state": {
            "_model_module": "@jupyter-widgets/controls",
            "_model_module_version": "1.5.0",
            "_model_name": "ProgressStyleModel",
            "_view_count": null,
            "_view_module": "@jupyter-widgets/base",
            "_view_module_version": "1.2.0",
            "_view_name": "StyleView",
            "bar_color": null,
            "description_width": ""
          }
        }
      }
    }
  },
  "nbformat": 4,
  "nbformat_minor": 0
}
